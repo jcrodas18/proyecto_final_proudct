{
 "cells": [
  {
   "cell_type": "markdown",
   "metadata": {},
   "source": [
    "# <div style=\"text-align: center\"> **PROYECTO FINAL** \n",
    "## **Machine Learning Pipeline & Prediction API**\n",
    "#### Dulce Rocío Sosa Cerna _20000140_"
   ]
  },
  {
   "cell_type": "code",
   "execution_count": 2372,
   "metadata": {},
   "outputs": [],
   "source": [
    "import pandas as pd\n",
    "import numpy as np\n",
    "import matplotlib.pyplot as plt\n",
    "import seaborn as sns\n",
    "\n",
    "import scipy.stats as stats\n",
    "from sklearn.model_selection import train_test_split\n",
    "from sklearn.preprocessing import MinMaxScaler\n",
    "\n",
    "import joblib"
   ]
  },
  {
   "cell_type": "markdown",
   "metadata": {},
   "source": [
    "### 1. Cargamos Dataset"
   ]
  },
  {
   "cell_type": "code",
   "execution_count": 2373,
   "metadata": {},
   "outputs": [
    {
     "name": "stdout",
     "output_type": "stream",
     "text": [
      "(180519, 28)\n",
      "\n"
     ]
    },
    {
     "data": {
      "text/html": [
       "<div>\n",
       "<style scoped>\n",
       "    .dataframe tbody tr th:only-of-type {\n",
       "        vertical-align: middle;\n",
       "    }\n",
       "\n",
       "    .dataframe tbody tr th {\n",
       "        vertical-align: top;\n",
       "    }\n",
       "\n",
       "    .dataframe thead th {\n",
       "        text-align: right;\n",
       "    }\n",
       "</style>\n",
       "<table border=\"1\" class=\"dataframe\">\n",
       "  <thead>\n",
       "    <tr style=\"text-align: right;\">\n",
       "      <th></th>\n",
       "      <th>Sales per customer</th>\n",
       "      <th>Delivery Status</th>\n",
       "      <th>Late_delivery_risk</th>\n",
       "      <th>Category Id</th>\n",
       "      <th>Customer City</th>\n",
       "      <th>Customer Country</th>\n",
       "      <th>Customer Id</th>\n",
       "      <th>Customer Lname</th>\n",
       "      <th>Customer Segment</th>\n",
       "      <th>Customer State</th>\n",
       "      <th>...</th>\n",
       "      <th>Order Item Profit Ratio</th>\n",
       "      <th>Order Item Quantity</th>\n",
       "      <th>Sales</th>\n",
       "      <th>Order Item Total</th>\n",
       "      <th>Order State</th>\n",
       "      <th>Order Status</th>\n",
       "      <th>Product Category Id</th>\n",
       "      <th>Product Name</th>\n",
       "      <th>Product Price</th>\n",
       "      <th>Shipping Mode</th>\n",
       "    </tr>\n",
       "    <tr>\n",
       "      <th>ï»¿Type</th>\n",
       "      <th></th>\n",
       "      <th></th>\n",
       "      <th></th>\n",
       "      <th></th>\n",
       "      <th></th>\n",
       "      <th></th>\n",
       "      <th></th>\n",
       "      <th></th>\n",
       "      <th></th>\n",
       "      <th></th>\n",
       "      <th></th>\n",
       "      <th></th>\n",
       "      <th></th>\n",
       "      <th></th>\n",
       "      <th></th>\n",
       "      <th></th>\n",
       "      <th></th>\n",
       "      <th></th>\n",
       "      <th></th>\n",
       "      <th></th>\n",
       "      <th></th>\n",
       "    </tr>\n",
       "  </thead>\n",
       "  <tbody>\n",
       "    <tr>\n",
       "      <th>DEBIT</th>\n",
       "      <td>314.640015</td>\n",
       "      <td>Advance shipping</td>\n",
       "      <td>0</td>\n",
       "      <td>73</td>\n",
       "      <td>Caguas</td>\n",
       "      <td>Puerto Rico</td>\n",
       "      <td>20755</td>\n",
       "      <td>Holloway</td>\n",
       "      <td>Consumer</td>\n",
       "      <td>PR</td>\n",
       "      <td>...</td>\n",
       "      <td>0.29</td>\n",
       "      <td>1</td>\n",
       "      <td>327.75</td>\n",
       "      <td>314.640015</td>\n",
       "      <td>Java Occidental</td>\n",
       "      <td>COMPLETE</td>\n",
       "      <td>73</td>\n",
       "      <td>Smart watch</td>\n",
       "      <td>327.75</td>\n",
       "      <td>Standard Class</td>\n",
       "    </tr>\n",
       "    <tr>\n",
       "      <th>TRANSFER</th>\n",
       "      <td>311.359985</td>\n",
       "      <td>Late delivery</td>\n",
       "      <td>1</td>\n",
       "      <td>73</td>\n",
       "      <td>Caguas</td>\n",
       "      <td>Puerto Rico</td>\n",
       "      <td>19492</td>\n",
       "      <td>Luna</td>\n",
       "      <td>Consumer</td>\n",
       "      <td>PR</td>\n",
       "      <td>...</td>\n",
       "      <td>-0.80</td>\n",
       "      <td>1</td>\n",
       "      <td>327.75</td>\n",
       "      <td>311.359985</td>\n",
       "      <td>RajastÃ¡n</td>\n",
       "      <td>PENDING</td>\n",
       "      <td>73</td>\n",
       "      <td>Smart watch</td>\n",
       "      <td>327.75</td>\n",
       "      <td>Standard Class</td>\n",
       "    </tr>\n",
       "    <tr>\n",
       "      <th>CASH</th>\n",
       "      <td>309.720001</td>\n",
       "      <td>Shipping on time</td>\n",
       "      <td>0</td>\n",
       "      <td>73</td>\n",
       "      <td>San Jose</td>\n",
       "      <td>EE. UU.</td>\n",
       "      <td>19491</td>\n",
       "      <td>Maldonado</td>\n",
       "      <td>Consumer</td>\n",
       "      <td>CA</td>\n",
       "      <td>...</td>\n",
       "      <td>-0.80</td>\n",
       "      <td>1</td>\n",
       "      <td>327.75</td>\n",
       "      <td>309.720001</td>\n",
       "      <td>RajastÃ¡n</td>\n",
       "      <td>CLOSED</td>\n",
       "      <td>73</td>\n",
       "      <td>Smart watch</td>\n",
       "      <td>327.75</td>\n",
       "      <td>Standard Class</td>\n",
       "    </tr>\n",
       "    <tr>\n",
       "      <th>DEBIT</th>\n",
       "      <td>304.809998</td>\n",
       "      <td>Advance shipping</td>\n",
       "      <td>0</td>\n",
       "      <td>73</td>\n",
       "      <td>Los Angeles</td>\n",
       "      <td>EE. UU.</td>\n",
       "      <td>19490</td>\n",
       "      <td>Tate</td>\n",
       "      <td>Home Office</td>\n",
       "      <td>CA</td>\n",
       "      <td>...</td>\n",
       "      <td>0.08</td>\n",
       "      <td>1</td>\n",
       "      <td>327.75</td>\n",
       "      <td>304.809998</td>\n",
       "      <td>Queensland</td>\n",
       "      <td>COMPLETE</td>\n",
       "      <td>73</td>\n",
       "      <td>Smart watch</td>\n",
       "      <td>327.75</td>\n",
       "      <td>Standard Class</td>\n",
       "    </tr>\n",
       "    <tr>\n",
       "      <th>PAYMENT</th>\n",
       "      <td>298.250000</td>\n",
       "      <td>Advance shipping</td>\n",
       "      <td>0</td>\n",
       "      <td>73</td>\n",
       "      <td>Caguas</td>\n",
       "      <td>Puerto Rico</td>\n",
       "      <td>19489</td>\n",
       "      <td>Hendricks</td>\n",
       "      <td>Corporate</td>\n",
       "      <td>PR</td>\n",
       "      <td>...</td>\n",
       "      <td>0.45</td>\n",
       "      <td>1</td>\n",
       "      <td>327.75</td>\n",
       "      <td>298.250000</td>\n",
       "      <td>Queensland</td>\n",
       "      <td>PENDING_PAYMENT</td>\n",
       "      <td>73</td>\n",
       "      <td>Smart watch</td>\n",
       "      <td>327.75</td>\n",
       "      <td>Standard Class</td>\n",
       "    </tr>\n",
       "  </tbody>\n",
       "</table>\n",
       "<p>5 rows × 28 columns</p>\n",
       "</div>"
      ],
      "text/plain": [
       "          Sales per customer   Delivery Status  Late_delivery_risk  \\\n",
       "ï»¿Type                                                              \n",
       "DEBIT             314.640015  Advance shipping                   0   \n",
       "TRANSFER          311.359985     Late delivery                   1   \n",
       "CASH              309.720001  Shipping on time                   0   \n",
       "DEBIT             304.809998  Advance shipping                   0   \n",
       "PAYMENT           298.250000  Advance shipping                   0   \n",
       "\n",
       "          Category Id Customer City Customer Country  Customer Id  \\\n",
       "ï»¿Type                                                             \n",
       "DEBIT              73        Caguas      Puerto Rico        20755   \n",
       "TRANSFER           73        Caguas      Puerto Rico        19492   \n",
       "CASH               73      San Jose          EE. UU.        19491   \n",
       "DEBIT              73   Los Angeles          EE. UU.        19490   \n",
       "PAYMENT            73        Caguas      Puerto Rico        19489   \n",
       "\n",
       "         Customer Lname Customer Segment Customer State  ...  \\\n",
       "ï»¿Type                                                  ...   \n",
       "DEBIT          Holloway         Consumer             PR  ...   \n",
       "TRANSFER           Luna         Consumer             PR  ...   \n",
       "CASH          Maldonado         Consumer             CA  ...   \n",
       "DEBIT              Tate      Home Office             CA  ...   \n",
       "PAYMENT       Hendricks        Corporate             PR  ...   \n",
       "\n",
       "          Order Item Profit Ratio Order Item Quantity   Sales  \\\n",
       "ï»¿Type                                                         \n",
       "DEBIT                        0.29                   1  327.75   \n",
       "TRANSFER                    -0.80                   1  327.75   \n",
       "CASH                        -0.80                   1  327.75   \n",
       "DEBIT                        0.08                   1  327.75   \n",
       "PAYMENT                      0.45                   1  327.75   \n",
       "\n",
       "         Order Item Total      Order State     Order Status  \\\n",
       "ï»¿Type                                                       \n",
       "DEBIT          314.640015  Java Occidental         COMPLETE   \n",
       "TRANSFER       311.359985        RajastÃ¡n          PENDING   \n",
       "CASH           309.720001        RajastÃ¡n           CLOSED   \n",
       "DEBIT          304.809998       Queensland         COMPLETE   \n",
       "PAYMENT        298.250000       Queensland  PENDING_PAYMENT   \n",
       "\n",
       "          Product Category Id  Product Name  Product Price   Shipping Mode  \n",
       "ï»¿Type                                                                     \n",
       "DEBIT                      73  Smart watch          327.75  Standard Class  \n",
       "TRANSFER                   73  Smart watch          327.75  Standard Class  \n",
       "CASH                       73  Smart watch          327.75  Standard Class  \n",
       "DEBIT                      73  Smart watch          327.75  Standard Class  \n",
       "PAYMENT                    73  Smart watch          327.75  Standard Class  \n",
       "\n",
       "[5 rows x 28 columns]"
      ]
     },
     "execution_count": 2373,
     "metadata": {},
     "output_type": "execute_result"
    }
   ],
   "source": [
    "data = pd.read_csv('SupplyChain.csv', index_col=0, encoding='latin-1', delimiter= ';')\n",
    "\n",
    "print(str(data.shape) + '\\n')\n",
    "\n",
    "data.head()"
   ]
  },
  {
   "cell_type": "code",
   "execution_count": 2374,
   "metadata": {},
   "outputs": [
    {
     "name": "stdout",
     "output_type": "stream",
     "text": [
      "(180519, 21)\n"
     ]
    }
   ],
   "source": [
    "#Eliminamos columnas de Id porque no son representativos para el analisis.\n",
    "data.drop('Category Id', axis=1, inplace=True)\n",
    "data.drop('Customer Id', axis=1, inplace=True)\n",
    "data.drop('Product Category Id', axis=1, inplace=True)\n",
    "data.drop('Order Customer Id', axis=1, inplace=True)\n",
    "data.drop('Department Id', axis=1, inplace=True)\n",
    "data.drop('Order Id', axis=1, inplace=True)\n",
    "data.drop('Order Item Id', axis=1, inplace=True)\n",
    "\n",
    "\n",
    "print(str(data.shape))"
   ]
  },
  {
   "cell_type": "markdown",
   "metadata": {},
   "source": [
    "### 2. Análisis de Datos para toma de decisiones en FE Pipeline"
   ]
  },
  {
   "cell_type": "markdown",
   "metadata": {},
   "source": [
    "### 2.1 Análisis del Target\n"
   ]
  },
  {
   "cell_type": "code",
   "execution_count": 2375,
   "metadata": {},
   "outputs": [
    {
     "data": {
      "image/png": "[encoded data removed]",
      "text/plain": [
       "<Figure size 432x288 with 1 Axes>"
      ]
     },
     "metadata": {},
     "output_type": "display_data"
    }
   ],
   "source": [
    "data['Sales per customer'].hist(bins=3, density=False)\n",
    "plt.xlabel(\"Customers\")\n",
    "plt.ylabel(\"Sales per Customer\")\n",
    "plt.show()"
   ]
  },
  {
   "cell_type": "code",
   "execution_count": 2376,
   "metadata": {},
   "outputs": [
    {
     "data": {
      "text/plain": [
       "ï»¿Type\n",
       "DEBIT       314.640015\n",
       "TRANSFER    311.359985\n",
       "CASH        309.720001\n",
       "DEBIT       304.809998\n",
       "PAYMENT     298.250000\n",
       "               ...    \n",
       "CASH        399.980011\n",
       "DEBIT       395.980011\n",
       "TRANSFER    391.980011\n",
       "PAYMENT     387.980011\n",
       "PAYMENT     383.980011\n",
       "Name: Sales per customer, Length: 180519, dtype: float64"
      ]
     },
     "execution_count": 2376,
     "metadata": {},
     "output_type": "execute_result"
    }
   ],
   "source": [
    "data['Sales per customer']"
   ]
  },
  {
   "cell_type": "markdown",
   "metadata": {},
   "source": [
    "### 2.2 Verificamos tipos de variables en X"
   ]
  },
  {
   "cell_type": "code",
   "execution_count": 2377,
   "metadata": {},
   "outputs": [
    {
     "data": {
      "text/plain": [
       "Sales per customer          float64\n",
       "Delivery Status              object\n",
       "Late_delivery_risk            int64\n",
       "Customer City                object\n",
       "Customer Country             object\n",
       "Customer Lname               object\n",
       "Customer Segment             object\n",
       "Customer State               object\n",
       "Market                       object\n",
       "Order City                   object\n",
       "Order Country                object\n",
       "Order Item Product Price    float64\n",
       "Order Item Profit Ratio     float64\n",
       "Order Item Quantity           int64\n",
       "Sales                       float64\n",
       "Order Item Total            float64\n",
       "Order State                  object\n",
       "Order Status                 object\n",
       "Product Name                 object\n",
       "Product Price               float64\n",
       "Shipping Mode                object\n",
       "dtype: object"
      ]
     },
     "execution_count": 2377,
     "metadata": {},
     "output_type": "execute_result"
    }
   ],
   "source": [
    "data.dtypes"
   ]
  },
  {
   "cell_type": "code",
   "execution_count": 2378,
   "metadata": {},
   "outputs": [],
   "source": [
    "cat_vars = [var for var in data.columns if data[var].dtype == 'O']\n",
    "\n",
    "#Agregamos el caso especial Late_delivery_risk, ya que esta variable es categórica porque indica si el envío tuvo tardanza o no. \n",
    "cat_vars = cat_vars + ['Late_delivery_risk'] "
   ]
  },
  {
   "cell_type": "code",
   "execution_count": 2379,
   "metadata": {},
   "outputs": [
    {
     "data": {
      "text/plain": [
       "14"
      ]
     },
     "execution_count": 2379,
     "metadata": {},
     "output_type": "execute_result"
    }
   ],
   "source": [
    "#cantidad de varaibles categóricas\n",
    "len(cat_vars)"
   ]
  },
  {
   "cell_type": "code",
   "execution_count": 2380,
   "metadata": {},
   "outputs": [
    {
     "data": {
      "text/plain": [
       "['Delivery Status',\n",
       " 'Customer City',\n",
       " 'Customer Country',\n",
       " 'Customer Lname',\n",
       " 'Customer Segment',\n",
       " 'Customer State',\n",
       " 'Market',\n",
       " 'Order City',\n",
       " 'Order Country',\n",
       " 'Order State',\n",
       " 'Order Status',\n",
       " 'Product Name',\n",
       " 'Shipping Mode',\n",
       " 'Late_delivery_risk']"
      ]
     },
     "execution_count": 2380,
     "metadata": {},
     "output_type": "execute_result"
    }
   ],
   "source": [
    "cat_vars"
   ]
  },
  {
   "cell_type": "code",
   "execution_count": 2381,
   "metadata": {},
   "outputs": [],
   "source": [
    "#Forzamos a todas las variables como categóticas, incluyendo Late_delivery_risk\n",
    "data[cat_vars] = data[cat_vars].astype('O')"
   ]
  },
  {
   "cell_type": "code",
   "execution_count": 2382,
   "metadata": {},
   "outputs": [],
   "source": [
    "#variables numéricas\n",
    "num_vars = [var for var in data.columns if(var not in cat_vars and var != 'Sales per customer')]"
   ]
  },
  {
   "cell_type": "code",
   "execution_count": 2383,
   "metadata": {},
   "outputs": [
    {
     "data": {
      "text/plain": [
       "6"
      ]
     },
     "execution_count": 2383,
     "metadata": {},
     "output_type": "execute_result"
    }
   ],
   "source": [
    "len(num_vars)"
   ]
  },
  {
   "cell_type": "code",
   "execution_count": 2384,
   "metadata": {},
   "outputs": [
    {
     "data": {
      "text/plain": [
       "['Order Item Product Price',\n",
       " 'Order Item Profit Ratio',\n",
       " 'Order Item Quantity',\n",
       " 'Sales',\n",
       " 'Order Item Total',\n",
       " 'Product Price']"
      ]
     },
     "execution_count": 2384,
     "metadata": {},
     "output_type": "execute_result"
    }
   ],
   "source": [
    "num_vars"
   ]
  },
  {
   "cell_type": "markdown",
   "metadata": {},
   "source": [
    "### 2.3 Análisis de Valores Faltantes"
   ]
  },
  {
   "cell_type": "code",
   "execution_count": 2385,
   "metadata": {},
   "outputs": [
    {
     "data": {
      "text/plain": [
       "1"
      ]
     },
     "execution_count": 2385,
     "metadata": {},
     "output_type": "execute_result"
    }
   ],
   "source": [
    "var_with_na = [var for var in data.columns if(data[var].isnull().sum() > 0)]\n",
    "len(var_with_na)"
   ]
  },
  {
   "cell_type": "code",
   "execution_count": 2386,
   "metadata": {},
   "outputs": [
    {
     "data": {
      "text/plain": [
       "Customer Lname    0.000044\n",
       "dtype: float64"
      ]
     },
     "execution_count": 2386,
     "metadata": {},
     "output_type": "execute_result"
    }
   ],
   "source": [
    "#proporcion de NAs en cada variable\n",
    "data[var_with_na].isnull().mean().sort_values(ascending=False)"
   ]
  },
  {
   "cell_type": "code",
   "execution_count": 2387,
   "metadata": {},
   "outputs": [
    {
     "data": {
      "text/plain": [
       "['Customer Lname']"
      ]
     },
     "execution_count": 2387,
     "metadata": {},
     "output_type": "execute_result"
    }
   ],
   "source": [
    "#variables categóricas con NAs.\n",
    "cat_na = [var for var in cat_vars if var in var_with_na]\n",
    "cat_na"
   ]
  },
  {
   "cell_type": "code",
   "execution_count": 2388,
   "metadata": {},
   "outputs": [
    {
     "data": {
      "text/plain": [
       "[]"
      ]
     },
     "execution_count": 2388,
     "metadata": {},
     "output_type": "execute_result"
    }
   ],
   "source": [
    "#variables numéricas con NAs.\n",
    "num_na = [var for var in num_vars if var in var_with_na]\n",
    "num_na"
   ]
  },
  {
   "cell_type": "code",
   "execution_count": 2389,
   "metadata": {},
   "outputs": [
    {
     "name": "stdout",
     "output_type": "stream",
     "text": [
      "Cantidad de variables numéricas con NAs. 0\n",
      "Cantidad de variables categóricas con NAs. 1\n"
     ]
    }
   ],
   "source": [
    "print(\"Cantidad de variables numéricas con NAs. {}\".format(len(num_na)))\n",
    "print(\"Cantidad de variables categóricas con NAs. {}\".format(len(cat_na)))"
   ]
  },
  {
   "cell_type": "markdown",
   "metadata": {},
   "source": [
    "#### 2.3.1 Verificación del impacto del NA contra el Target (Survived)"
   ]
  },
  {
   "cell_type": "code",
   "execution_count": 2390,
   "metadata": {},
   "outputs": [],
   "source": [
    "df= data.copy()\n",
    "var= 'Customer Lname'\n",
    "df [var]= np.where(df[var].isnull(), 1, 0)\n",
    "temp = df.groupby(var)['Sales per customer'].agg(['mean', 'std'])"
   ]
  },
  {
   "cell_type": "code",
   "execution_count": 2391,
   "metadata": {},
   "outputs": [
    {
     "data": {
      "text/html": [
       "<div>\n",
       "<style scoped>\n",
       "    .dataframe tbody tr th:only-of-type {\n",
       "        vertical-align: middle;\n",
       "    }\n",
       "\n",
       "    .dataframe tbody tr th {\n",
       "        vertical-align: top;\n",
       "    }\n",
       "\n",
       "    .dataframe thead th {\n",
       "        text-align: right;\n",
       "    }\n",
       "</style>\n",
       "<table border=\"1\" class=\"dataframe\">\n",
       "  <thead>\n",
       "    <tr style=\"text-align: right;\">\n",
       "      <th></th>\n",
       "      <th>mean</th>\n",
       "      <th>std</th>\n",
       "    </tr>\n",
       "    <tr>\n",
       "      <th>Customer Lname</th>\n",
       "      <th></th>\n",
       "      <th></th>\n",
       "    </tr>\n",
       "  </thead>\n",
       "  <tbody>\n",
       "    <tr>\n",
       "      <th>0</th>\n",
       "      <td>183.101636</td>\n",
       "      <td>120.041376</td>\n",
       "    </tr>\n",
       "    <tr>\n",
       "      <th>1</th>\n",
       "      <td>317.867502</td>\n",
       "      <td>99.566648</td>\n",
       "    </tr>\n",
       "  </tbody>\n",
       "</table>\n",
       "</div>"
      ],
      "text/plain": [
       "                      mean         std\n",
       "Customer Lname                        \n",
       "0               183.101636  120.041376\n",
       "1               317.867502   99.566648"
      ]
     },
     "execution_count": 2391,
     "metadata": {},
     "output_type": "execute_result"
    }
   ],
   "source": [
    "temp"
   ]
  },
  {
   "cell_type": "code",
   "execution_count": 2392,
   "metadata": {},
   "outputs": [],
   "source": [
    "def na_impact_over_target(df, Xvar, Yvar):\n",
    "    df = data.copy()\n",
    "    df[Xvar] = np.where(df[Xvar].isnull(), 1, 0)\n",
    "    temp = df.groupby(Xvar)[Yvar].agg(['mean', 'std'])\n",
    "    temp.plot(kind=\"barh\", y=\"mean\", xerr=\"std\", legend=False, title=Yvar)\n",
    "    plt.show()"
   ]
  },
  {
   "cell_type": "code",
   "execution_count": 2393,
   "metadata": {
    "scrolled": true
   },
   "outputs": [
    {
     "data": {
      "image/png": "[encoded data removed]",
      "text/plain": [
       "<Figure size 432x288 with 1 Axes>"
      ]
     },
     "metadata": {},
     "output_type": "display_data"
    }
   ],
   "source": [
    "for var in var_with_na:\n",
    "    na_impact_over_target(data, var, 'Sales per customer')"
   ]
  },
  {
   "cell_type": "markdown",
   "metadata": {},
   "source": [
    "### 2.4 Análisis de Variables Temporales"
   ]
  },
  {
   "cell_type": "code",
   "execution_count": 2394,
   "metadata": {},
   "outputs": [
    {
     "data": {
      "text/plain": [
       "[]"
      ]
     },
     "execution_count": 2394,
     "metadata": {},
     "output_type": "execute_result"
    }
   ],
   "source": [
    "year_vars = [var for var in num_vars if (('Yr' in var) or ('Year' in var))]\n",
    "year_vars"
   ]
  },
  {
   "cell_type": "markdown",
   "metadata": {},
   "source": [
    "No tenemos variables temporales en la data."
   ]
  },
  {
   "cell_type": "markdown",
   "metadata": {},
   "source": [
    "#### Análisis Estadístico"
   ]
  },
  {
   "cell_type": "code",
   "execution_count": 2395,
   "metadata": {},
   "outputs": [
    {
     "data": {
      "image/png": "[encoded data removed]",
      "text/plain": [
       "<Figure size 432x288 with 1 Axes>"
      ]
     },
     "metadata": {},
     "output_type": "display_data"
    }
   ],
   "source": [
    "data['Sales per customer'].hist(bins=25, density=False)\n",
    "plt.xlabel(\"Customers\")\n",
    "plt.ylabel(\"Sales\")\n",
    "plt.show()"
   ]
  },
  {
   "cell_type": "markdown",
   "metadata": {},
   "source": [
    "El comportamiento de la variable Target \"Sales per customer\" tiene una distribución normal, un poco sesgada hacia la izquierda. Las ventas mayores alcanzan casi los 60,000."
   ]
  },
  {
   "cell_type": "code",
   "execution_count": 2396,
   "metadata": {},
   "outputs": [
    {
     "data": {
      "image/png": "[encoded data removed]",
      "text/plain": [
       "<Figure size 432x288 with 1 Axes>"
      ]
     },
     "metadata": {},
     "output_type": "display_data"
    }
   ],
   "source": [
    "data['Order Status'].hist(bins=20, density=True)\n",
    "plt.xlabel(\"Status\")\n",
    "plt.ylabel(\"Orders\")\n",
    "plt.show()"
   ]
  },
  {
   "cell_type": "markdown",
   "metadata": {},
   "source": [
    "La mayoría de ordenes estan en status Complete."
   ]
  },
  {
   "cell_type": "code",
   "execution_count": 2397,
   "metadata": {},
   "outputs": [
    {
     "data": {
      "image/png": "[encoded data removed]",
      "text/plain": [
       "<Figure size 432x288 with 1 Axes>"
      ]
     },
     "metadata": {},
     "output_type": "display_data"
    }
   ],
   "source": [
    "data['Shipping Mode'].hist(bins=8, density=False)\n",
    "plt.xlabel(\"Country\")\n",
    "plt.ylabel(\"Orders\")\n",
    "plt.show()\n"
   ]
  },
  {
   "cell_type": "markdown",
   "metadata": {},
   "source": [
    "El shipping mode mas alto es el de Standard Class."
   ]
  },
  {
   "cell_type": "code",
   "execution_count": 2398,
   "metadata": {},
   "outputs": [
    {
     "data": {
      "image/png": "[encoded data removed]",
      "text/plain": [
       "<Figure size 432x288 with 1 Axes>"
      ]
     },
     "metadata": {},
     "output_type": "display_data"
    }
   ],
   "source": [
    "data['Customer Segment'].hist(bins=5, density=False)\n",
    "plt.xlabel(\"Segments\")\n",
    "plt.ylabel(\"Cantidad de Customers\")\n",
    "plt.show()"
   ]
  },
  {
   "cell_type": "markdown",
   "metadata": {},
   "source": [
    "La mayoría de clientes son de segmento \"Consumer\"."
   ]
  },
  {
   "cell_type": "code",
   "execution_count": 2399,
   "metadata": {},
   "outputs": [
    {
     "data": {
      "text/plain": [
       "['Order Item Quantity']"
      ]
     },
     "execution_count": 2399,
     "metadata": {},
     "output_type": "execute_result"
    }
   ],
   "source": [
    "discrete_vars = [var for var in num_vars if((len(data[var].unique()) < 20) and (var not in year_vars))]\n",
    "discrete_vars"
   ]
  },
  {
   "cell_type": "markdown",
   "metadata": {},
   "source": [
    "### 2.5 Variables Discretas"
   ]
  },
  {
   "cell_type": "code",
   "execution_count": 2400,
   "metadata": {},
   "outputs": [
    {
     "data": {
      "text/plain": [
       "True"
      ]
     },
     "execution_count": 2400,
     "metadata": {},
     "output_type": "execute_result"
    }
   ],
   "source": [
    "len(data['Order Item Quantity'].unique()) < 20"
   ]
  },
  {
   "cell_type": "code",
   "execution_count": 2401,
   "metadata": {},
   "outputs": [
    {
     "data": {
      "text/plain": [
       "['Order Item Quantity']"
      ]
     },
     "execution_count": 2401,
     "metadata": {},
     "output_type": "execute_result"
    }
   ],
   "source": [
    "discrete_vars = [var for var in num_vars if((len(data[var].unique()) < 20) and (var not in year_vars))]\n",
    "discrete_vars"
   ]
  },
  {
   "cell_type": "code",
   "execution_count": 2402,
   "metadata": {},
   "outputs": [
    {
     "name": "stdout",
     "output_type": "stream",
     "text": [
      "Cantidad de Variables Discretas:  1\n"
     ]
    }
   ],
   "source": [
    "print(\"Cantidad de Variables Discretas: \", len(discrete_vars))"
   ]
  },
  {
   "cell_type": "code",
   "execution_count": 2403,
   "metadata": {},
   "outputs": [
    {
     "data": {
      "text/html": [
       "<div>\n",
       "<style scoped>\n",
       "    .dataframe tbody tr th:only-of-type {\n",
       "        vertical-align: middle;\n",
       "    }\n",
       "\n",
       "    .dataframe tbody tr th {\n",
       "        vertical-align: top;\n",
       "    }\n",
       "\n",
       "    .dataframe thead th {\n",
       "        text-align: right;\n",
       "    }\n",
       "</style>\n",
       "<table border=\"1\" class=\"dataframe\">\n",
       "  <thead>\n",
       "    <tr style=\"text-align: right;\">\n",
       "      <th></th>\n",
       "      <th>Order Item Quantity</th>\n",
       "    </tr>\n",
       "    <tr>\n",
       "      <th>ï»¿Type</th>\n",
       "      <th></th>\n",
       "    </tr>\n",
       "  </thead>\n",
       "  <tbody>\n",
       "    <tr>\n",
       "      <th>DEBIT</th>\n",
       "      <td>1</td>\n",
       "    </tr>\n",
       "    <tr>\n",
       "      <th>TRANSFER</th>\n",
       "      <td>1</td>\n",
       "    </tr>\n",
       "    <tr>\n",
       "      <th>CASH</th>\n",
       "      <td>1</td>\n",
       "    </tr>\n",
       "    <tr>\n",
       "      <th>DEBIT</th>\n",
       "      <td>1</td>\n",
       "    </tr>\n",
       "    <tr>\n",
       "      <th>PAYMENT</th>\n",
       "      <td>1</td>\n",
       "    </tr>\n",
       "  </tbody>\n",
       "</table>\n",
       "</div>"
      ],
      "text/plain": [
       "          Order Item Quantity\n",
       "ï»¿Type                      \n",
       "DEBIT                       1\n",
       "TRANSFER                    1\n",
       "CASH                        1\n",
       "DEBIT                       1\n",
       "PAYMENT                     1"
      ]
     },
     "execution_count": 2403,
     "metadata": {},
     "output_type": "execute_result"
    }
   ],
   "source": [
    "data[discrete_vars].head()"
   ]
  },
  {
   "cell_type": "code",
   "execution_count": 2404,
   "metadata": {},
   "outputs": [],
   "source": [
    "import seaborn as sns"
   ]
  },
  {
   "cell_type": "code",
   "execution_count": 2405,
   "metadata": {},
   "outputs": [
    {
     "data": {
      "image/png": "[encoded data removed]",
      "text/plain": [
       "<Figure size 288x288 with 1 Axes>"
      ]
     },
     "metadata": {},
     "output_type": "display_data"
    }
   ],
   "source": [
    "for var in discrete_vars:\n",
    "    sns.catplot(x=var, y= 'Sales per customer', data=data, kind=\"box\", height=4)\n",
    "    sns.stripplot(x=var, y='Sales per customer', data=data, jitter=0.1, alpha=0.3,color='k')\n",
    "    plt.show()"
   ]
  },
  {
   "cell_type": "markdown",
   "metadata": {},
   "source": [
    "### 2.6 Variables Continuas"
   ]
  },
  {
   "cell_type": "code",
   "execution_count": 2406,
   "metadata": {},
   "outputs": [],
   "source": [
    "cont_vars = [var for var in num_vars if var not in discrete_vars + year_vars]"
   ]
  },
  {
   "cell_type": "code",
   "execution_count": 2407,
   "metadata": {},
   "outputs": [
    {
     "name": "stdout",
     "output_type": "stream",
     "text": [
      "Variables Numericas Continuas:  5\n"
     ]
    }
   ],
   "source": [
    "print(\"Variables Numericas Continuas: \", len(cont_vars))"
   ]
  },
  {
   "cell_type": "code",
   "execution_count": 2408,
   "metadata": {},
   "outputs": [
    {
     "data": {
      "text/html": [
       "<div>\n",
       "<style scoped>\n",
       "    .dataframe tbody tr th:only-of-type {\n",
       "        vertical-align: middle;\n",
       "    }\n",
       "\n",
       "    .dataframe tbody tr th {\n",
       "        vertical-align: top;\n",
       "    }\n",
       "\n",
       "    .dataframe thead th {\n",
       "        text-align: right;\n",
       "    }\n",
       "</style>\n",
       "<table border=\"1\" class=\"dataframe\">\n",
       "  <thead>\n",
       "    <tr style=\"text-align: right;\">\n",
       "      <th></th>\n",
       "      <th>Order Item Product Price</th>\n",
       "      <th>Order Item Profit Ratio</th>\n",
       "      <th>Sales</th>\n",
       "      <th>Order Item Total</th>\n",
       "      <th>Product Price</th>\n",
       "    </tr>\n",
       "    <tr>\n",
       "      <th>ï»¿Type</th>\n",
       "      <th></th>\n",
       "      <th></th>\n",
       "      <th></th>\n",
       "      <th></th>\n",
       "      <th></th>\n",
       "    </tr>\n",
       "  </thead>\n",
       "  <tbody>\n",
       "    <tr>\n",
       "      <th>DEBIT</th>\n",
       "      <td>327.75</td>\n",
       "      <td>0.29</td>\n",
       "      <td>327.75</td>\n",
       "      <td>314.640015</td>\n",
       "      <td>327.75</td>\n",
       "    </tr>\n",
       "    <tr>\n",
       "      <th>TRANSFER</th>\n",
       "      <td>327.75</td>\n",
       "      <td>-0.80</td>\n",
       "      <td>327.75</td>\n",
       "      <td>311.359985</td>\n",
       "      <td>327.75</td>\n",
       "    </tr>\n",
       "    <tr>\n",
       "      <th>CASH</th>\n",
       "      <td>327.75</td>\n",
       "      <td>-0.80</td>\n",
       "      <td>327.75</td>\n",
       "      <td>309.720001</td>\n",
       "      <td>327.75</td>\n",
       "    </tr>\n",
       "    <tr>\n",
       "      <th>DEBIT</th>\n",
       "      <td>327.75</td>\n",
       "      <td>0.08</td>\n",
       "      <td>327.75</td>\n",
       "      <td>304.809998</td>\n",
       "      <td>327.75</td>\n",
       "    </tr>\n",
       "    <tr>\n",
       "      <th>PAYMENT</th>\n",
       "      <td>327.75</td>\n",
       "      <td>0.45</td>\n",
       "      <td>327.75</td>\n",
       "      <td>298.250000</td>\n",
       "      <td>327.75</td>\n",
       "    </tr>\n",
       "  </tbody>\n",
       "</table>\n",
       "</div>"
      ],
      "text/plain": [
       "          Order Item Product Price  Order Item Profit Ratio   Sales  \\\n",
       "ï»¿Type                                                               \n",
       "DEBIT                       327.75                     0.29  327.75   \n",
       "TRANSFER                    327.75                    -0.80  327.75   \n",
       "CASH                        327.75                    -0.80  327.75   \n",
       "DEBIT                       327.75                     0.08  327.75   \n",
       "PAYMENT                     327.75                     0.45  327.75   \n",
       "\n",
       "          Order Item Total  Product Price  \n",
       "ï»¿Type                                    \n",
       "DEBIT           314.640015         327.75  \n",
       "TRANSFER        311.359985         327.75  \n",
       "CASH            309.720001         327.75  \n",
       "DEBIT           304.809998         327.75  \n",
       "PAYMENT         298.250000         327.75  "
      ]
     },
     "execution_count": 2408,
     "metadata": {},
     "output_type": "execute_result"
    }
   ],
   "source": [
    "data[cont_vars].head()"
   ]
  },
  {
   "cell_type": "code",
   "execution_count": 2409,
   "metadata": {},
   "outputs": [
    {
     "data": {
      "image/png": "[encoded data removed]",
      "text/plain": [
       "<Figure size 1080x1080 with 6 Axes>"
      ]
     },
     "metadata": {},
     "output_type": "display_data"
    }
   ],
   "source": [
    "data[cont_vars].hist(bins=50, figsize=(15, 15))\n",
    "plt.show()"
   ]
  },
  {
   "cell_type": "code",
   "execution_count": 2410,
   "metadata": {},
   "outputs": [
    {
     "data": {
      "text/plain": [
       "['Order Item Product Price',\n",
       " 'Order Item Profit Ratio',\n",
       " 'Sales',\n",
       " 'Order Item Total',\n",
       " 'Product Price']"
      ]
     },
     "execution_count": 2410,
     "metadata": {},
     "output_type": "execute_result"
    }
   ],
   "source": [
    "cont_vars"
   ]
  },
  {
   "cell_type": "markdown",
   "metadata": {},
   "source": [
    "#### Transformación de Yeo-Johnson"
   ]
  },
  {
   "cell_type": "code",
   "execution_count": 2411,
   "metadata": {},
   "outputs": [],
   "source": [
    "import scipy.stats as stats"
   ]
  },
  {
   "cell_type": "code",
   "execution_count": 2412,
   "metadata": {},
   "outputs": [],
   "source": [
    "temp_yj = data.copy()"
   ]
  },
  {
   "cell_type": "code",
   "execution_count": 2413,
   "metadata": {},
   "outputs": [],
   "source": [
    "for var in cont_vars:\n",
    "    temp_yj[var], param = stats.yeojohnson(data[var])"
   ]
  },
  {
   "cell_type": "code",
   "execution_count": 2414,
   "metadata": {},
   "outputs": [
    {
     "data": {
      "image/png": "[encoded data removed]",
      "text/plain": [
       "<Figure size 1080x1080 with 6 Axes>"
      ]
     },
     "metadata": {},
     "output_type": "display_data"
    }
   ],
   "source": [
    "temp_yj[cont_vars].hist(bins=30, figsize=(15, 15))\n",
    "plt.show()"
   ]
  },
  {
   "cell_type": "code",
   "execution_count": 2415,
   "metadata": {},
   "outputs": [
    {
     "data": {
      "text/plain": [
       "5"
      ]
     },
     "execution_count": 2415,
     "metadata": {},
     "output_type": "execute_result"
    }
   ],
   "source": [
    "len(cont_vars)"
   ]
  },
  {
   "cell_type": "code",
   "execution_count": 2416,
   "metadata": {},
   "outputs": [],
   "source": [
    "cont_vars = [var for var in cont_vars if var not in sesgadas]"
   ]
  },
  {
   "cell_type": "code",
   "execution_count": 2417,
   "metadata": {},
   "outputs": [
    {
     "data": {
      "text/plain": [
       "['Order Item Product Price',\n",
       " 'Order Item Profit Ratio',\n",
       " 'Sales',\n",
       " 'Order Item Total',\n",
       " 'Product Price']"
      ]
     },
     "execution_count": 2417,
     "metadata": {},
     "output_type": "execute_result"
    }
   ],
   "source": [
    "cont_vars"
   ]
  },
  {
   "cell_type": "markdown",
   "metadata": {},
   "source": [
    "### 2.7 Variables Categóricas"
   ]
  },
  {
   "cell_type": "code",
   "execution_count": 2418,
   "metadata": {},
   "outputs": [
    {
     "data": {
      "text/plain": [
       "14"
      ]
     },
     "execution_count": 2418,
     "metadata": {},
     "output_type": "execute_result"
    }
   ],
   "source": [
    "len(cat_vars)"
   ]
  },
  {
   "cell_type": "code",
   "execution_count": 2419,
   "metadata": {},
   "outputs": [
    {
     "data": {
      "text/html": [
       "<div>\n",
       "<style scoped>\n",
       "    .dataframe tbody tr th:only-of-type {\n",
       "        vertical-align: middle;\n",
       "    }\n",
       "\n",
       "    .dataframe tbody tr th {\n",
       "        vertical-align: top;\n",
       "    }\n",
       "\n",
       "    .dataframe thead th {\n",
       "        text-align: right;\n",
       "    }\n",
       "</style>\n",
       "<table border=\"1\" class=\"dataframe\">\n",
       "  <thead>\n",
       "    <tr style=\"text-align: right;\">\n",
       "      <th></th>\n",
       "      <th>Delivery Status</th>\n",
       "      <th>Customer City</th>\n",
       "      <th>Customer Country</th>\n",
       "      <th>Customer Lname</th>\n",
       "      <th>Customer Segment</th>\n",
       "      <th>Customer State</th>\n",
       "      <th>Market</th>\n",
       "      <th>Order City</th>\n",
       "      <th>Order Country</th>\n",
       "      <th>Order State</th>\n",
       "      <th>Order Status</th>\n",
       "      <th>Product Name</th>\n",
       "      <th>Shipping Mode</th>\n",
       "      <th>Late_delivery_risk</th>\n",
       "    </tr>\n",
       "    <tr>\n",
       "      <th>ï»¿Type</th>\n",
       "      <th></th>\n",
       "      <th></th>\n",
       "      <th></th>\n",
       "      <th></th>\n",
       "      <th></th>\n",
       "      <th></th>\n",
       "      <th></th>\n",
       "      <th></th>\n",
       "      <th></th>\n",
       "      <th></th>\n",
       "      <th></th>\n",
       "      <th></th>\n",
       "      <th></th>\n",
       "      <th></th>\n",
       "    </tr>\n",
       "  </thead>\n",
       "  <tbody>\n",
       "    <tr>\n",
       "      <th>DEBIT</th>\n",
       "      <td>Advance shipping</td>\n",
       "      <td>Caguas</td>\n",
       "      <td>Puerto Rico</td>\n",
       "      <td>Holloway</td>\n",
       "      <td>Consumer</td>\n",
       "      <td>PR</td>\n",
       "      <td>Pacific Asia</td>\n",
       "      <td>Bekasi</td>\n",
       "      <td>Indonesia</td>\n",
       "      <td>Java Occidental</td>\n",
       "      <td>COMPLETE</td>\n",
       "      <td>Smart watch</td>\n",
       "      <td>Standard Class</td>\n",
       "      <td>0</td>\n",
       "    </tr>\n",
       "    <tr>\n",
       "      <th>TRANSFER</th>\n",
       "      <td>Late delivery</td>\n",
       "      <td>Caguas</td>\n",
       "      <td>Puerto Rico</td>\n",
       "      <td>Luna</td>\n",
       "      <td>Consumer</td>\n",
       "      <td>PR</td>\n",
       "      <td>Pacific Asia</td>\n",
       "      <td>Bikaner</td>\n",
       "      <td>India</td>\n",
       "      <td>RajastÃ¡n</td>\n",
       "      <td>PENDING</td>\n",
       "      <td>Smart watch</td>\n",
       "      <td>Standard Class</td>\n",
       "      <td>1</td>\n",
       "    </tr>\n",
       "    <tr>\n",
       "      <th>CASH</th>\n",
       "      <td>Shipping on time</td>\n",
       "      <td>San Jose</td>\n",
       "      <td>EE. UU.</td>\n",
       "      <td>Maldonado</td>\n",
       "      <td>Consumer</td>\n",
       "      <td>CA</td>\n",
       "      <td>Pacific Asia</td>\n",
       "      <td>Bikaner</td>\n",
       "      <td>India</td>\n",
       "      <td>RajastÃ¡n</td>\n",
       "      <td>CLOSED</td>\n",
       "      <td>Smart watch</td>\n",
       "      <td>Standard Class</td>\n",
       "      <td>0</td>\n",
       "    </tr>\n",
       "    <tr>\n",
       "      <th>DEBIT</th>\n",
       "      <td>Advance shipping</td>\n",
       "      <td>Los Angeles</td>\n",
       "      <td>EE. UU.</td>\n",
       "      <td>Tate</td>\n",
       "      <td>Home Office</td>\n",
       "      <td>CA</td>\n",
       "      <td>Pacific Asia</td>\n",
       "      <td>Townsville</td>\n",
       "      <td>Australia</td>\n",
       "      <td>Queensland</td>\n",
       "      <td>COMPLETE</td>\n",
       "      <td>Smart watch</td>\n",
       "      <td>Standard Class</td>\n",
       "      <td>0</td>\n",
       "    </tr>\n",
       "    <tr>\n",
       "      <th>PAYMENT</th>\n",
       "      <td>Advance shipping</td>\n",
       "      <td>Caguas</td>\n",
       "      <td>Puerto Rico</td>\n",
       "      <td>Hendricks</td>\n",
       "      <td>Corporate</td>\n",
       "      <td>PR</td>\n",
       "      <td>Pacific Asia</td>\n",
       "      <td>Townsville</td>\n",
       "      <td>Australia</td>\n",
       "      <td>Queensland</td>\n",
       "      <td>PENDING_PAYMENT</td>\n",
       "      <td>Smart watch</td>\n",
       "      <td>Standard Class</td>\n",
       "      <td>0</td>\n",
       "    </tr>\n",
       "  </tbody>\n",
       "</table>\n",
       "</div>"
      ],
      "text/plain": [
       "           Delivery Status Customer City Customer Country Customer Lname  \\\n",
       "ï»¿Type                                                                    \n",
       "DEBIT     Advance shipping        Caguas      Puerto Rico       Holloway   \n",
       "TRANSFER     Late delivery        Caguas      Puerto Rico           Luna   \n",
       "CASH      Shipping on time      San Jose          EE. UU.      Maldonado   \n",
       "DEBIT     Advance shipping   Los Angeles          EE. UU.           Tate   \n",
       "PAYMENT   Advance shipping        Caguas      Puerto Rico      Hendricks   \n",
       "\n",
       "         Customer Segment Customer State        Market  Order City  \\\n",
       "ï»¿Type                                                              \n",
       "DEBIT            Consumer             PR  Pacific Asia      Bekasi   \n",
       "TRANSFER         Consumer             PR  Pacific Asia     Bikaner   \n",
       "CASH             Consumer             CA  Pacific Asia     Bikaner   \n",
       "DEBIT         Home Office             CA  Pacific Asia  Townsville   \n",
       "PAYMENT         Corporate             PR  Pacific Asia  Townsville   \n",
       "\n",
       "         Order Country      Order State     Order Status  Product Name  \\\n",
       "ï»¿Type                                                                  \n",
       "DEBIT        Indonesia  Java Occidental         COMPLETE  Smart watch    \n",
       "TRANSFER         India        RajastÃ¡n          PENDING  Smart watch    \n",
       "CASH             India        RajastÃ¡n           CLOSED  Smart watch    \n",
       "DEBIT        Australia       Queensland         COMPLETE  Smart watch    \n",
       "PAYMENT      Australia       Queensland  PENDING_PAYMENT  Smart watch    \n",
       "\n",
       "           Shipping Mode Late_delivery_risk  \n",
       "ï»¿Type                                      \n",
       "DEBIT     Standard Class                  0  \n",
       "TRANSFER  Standard Class                  1  \n",
       "CASH      Standard Class                  0  \n",
       "DEBIT     Standard Class                  0  \n",
       "PAYMENT   Standard Class                  0  "
      ]
     },
     "execution_count": 2419,
     "metadata": {},
     "output_type": "execute_result"
    }
   ],
   "source": [
    "data[cat_vars].head()"
   ]
  },
  {
   "cell_type": "code",
   "execution_count": 2420,
   "metadata": {},
   "outputs": [
    {
     "data": {
      "text/plain": [
       "<AxesSubplot:>"
      ]
     },
     "execution_count": 2420,
     "metadata": {},
     "output_type": "execute_result"
    },
    {
     "data": {
      "image/png": "[encoded data removed]",
      "text/plain": [
       "<Figure size 864x360 with 1 Axes>"
      ]
     },
     "metadata": {},
     "output_type": "display_data"
    }
   ],
   "source": [
    "data[cat_vars].nunique().sort_values(ascending=False).plot.bar(figsize=(12,5))"
   ]
  },
  {
   "cell_type": "code",
   "execution_count": 2421,
   "metadata": {},
   "outputs": [
    {
     "data": {
      "text/plain": [
       "ï»¿Type\n",
       "DEBIT           Bekasi\n",
       "TRANSFER       Bikaner\n",
       "CASH           Bikaner\n",
       "DEBIT       Townsville\n",
       "PAYMENT     Townsville\n",
       "               ...    \n",
       "CASH         ShanghÃ¡i\n",
       "DEBIT         Hirakata\n",
       "TRANSFER      Adelaide\n",
       "PAYMENT       Adelaide\n",
       "PAYMENT      Nagercoil\n",
       "Name: Order City, Length: 180519, dtype: object"
      ]
     },
     "execution_count": 2421,
     "metadata": {},
     "output_type": "execute_result"
    }
   ],
   "source": [
    "data['Order City']"
   ]
  },
  {
   "cell_type": "code",
   "execution_count": 2422,
   "metadata": {},
   "outputs": [
    {
     "data": {
      "text/plain": [
       "ï»¿Type\n",
       "DEBIT        Holloway\n",
       "TRANSFER         Luna\n",
       "CASH        Maldonado\n",
       "DEBIT            Tate\n",
       "PAYMENT     Hendricks\n",
       "              ...    \n",
       "CASH         Peterson\n",
       "DEBIT           Clark\n",
       "TRANSFER        Smith\n",
       "PAYMENT         Smith\n",
       "PAYMENT        Ortega\n",
       "Name: Customer Lname, Length: 180519, dtype: object"
      ]
     },
     "execution_count": 2422,
     "metadata": {},
     "output_type": "execute_result"
    }
   ],
   "source": [
    "data['Customer Lname']"
   ]
  },
  {
   "cell_type": "code",
   "execution_count": 2423,
   "metadata": {},
   "outputs": [
    {
     "data": {
      "text/plain": [
       "ï»¿Type\n",
       "DEBIT         Java Occidental\n",
       "TRANSFER            RajastÃ¡n\n",
       "CASH                RajastÃ¡n\n",
       "DEBIT              Queensland\n",
       "PAYMENT            Queensland\n",
       "                  ...        \n",
       "CASH                ShanghÃ¡i\n",
       "DEBIT                   Osaka\n",
       "TRANSFER    Australia del Sur\n",
       "PAYMENT     Australia del Sur\n",
       "PAYMENT            Tamil Nadu\n",
       "Name: Order State, Length: 180519, dtype: object"
      ]
     },
     "execution_count": 2423,
     "metadata": {},
     "output_type": "execute_result"
    }
   ],
   "source": [
    "data['Order State']"
   ]
  },
  {
   "cell_type": "code",
   "execution_count": 2424,
   "metadata": {},
   "outputs": [
    {
     "data": {
      "text/plain": [
       "array(['Advance shipping', 'Late delivery', 'Shipping canceled',\n",
       "       'Shipping on time'], dtype=object)"
      ]
     },
     "execution_count": 2424,
     "metadata": {},
     "output_type": "execute_result"
    }
   ],
   "source": [
    "np.unique(data['Delivery Status'])"
   ]
  },
  {
   "cell_type": "code",
   "execution_count": 2425,
   "metadata": {},
   "outputs": [
    {
     "data": {
      "text/plain": [
       "array(['Consumer', 'Corporate', 'Home Office'], dtype=object)"
      ]
     },
     "execution_count": 2425,
     "metadata": {},
     "output_type": "execute_result"
    }
   ],
   "source": [
    "np.unique(data['Customer Segment'])"
   ]
  },
  {
   "cell_type": "code",
   "execution_count": 2426,
   "metadata": {},
   "outputs": [
    {
     "data": {
      "text/plain": [
       "array(['EE. UU.', 'Puerto Rico'], dtype=object)"
      ]
     },
     "execution_count": 2426,
     "metadata": {},
     "output_type": "execute_result"
    }
   ],
   "source": [
    "np.unique(data['Customer Country'])"
   ]
  },
  {
   "cell_type": "code",
   "execution_count": 2427,
   "metadata": {},
   "outputs": [
    {
     "data": {
      "text/plain": [
       "array(['First Class', 'Same Day', 'Second Class', 'Standard Class'],\n",
       "      dtype=object)"
      ]
     },
     "execution_count": 2427,
     "metadata": {},
     "output_type": "execute_result"
    }
   ],
   "source": [
    "np.unique(data['Shipping Mode'])"
   ]
  },
  {
   "cell_type": "code",
   "execution_count": 2428,
   "metadata": {},
   "outputs": [
    {
     "data": {
      "text/plain": [
       "array(['Africa', 'Europe', 'LATAM', 'Pacific Asia', 'USCA'], dtype=object)"
      ]
     },
     "execution_count": 2428,
     "metadata": {},
     "output_type": "execute_result"
    }
   ],
   "source": [
    "np.unique(data['Market'])"
   ]
  },
  {
   "cell_type": "code",
   "execution_count": 2429,
   "metadata": {},
   "outputs": [
    {
     "data": {
      "text/plain": [
       "array(['91732', '95758', 'AL', 'AR', 'AZ', 'CA', 'CO', 'CT', 'DC', 'DE',\n",
       "       'FL', 'GA', 'HI', 'IA', 'ID', 'IL', 'IN', 'KS', 'KY', 'LA', 'MA',\n",
       "       'MD', 'MI', 'MN', 'MO', 'MT', 'NC', 'ND', 'NJ', 'NM', 'NV', 'NY',\n",
       "       'OH', 'OK', 'OR', 'PA', 'PR', 'RI', 'SC', 'TN', 'TX', 'UT', 'VA',\n",
       "       'WA', 'WI', 'WV'], dtype=object)"
      ]
     },
     "execution_count": 2429,
     "metadata": {},
     "output_type": "execute_result"
    }
   ],
   "source": [
    "np.unique(data['Customer State'])"
   ]
  },
  {
   "cell_type": "code",
   "execution_count": 2430,
   "metadata": {},
   "outputs": [
    {
     "data": {
      "text/plain": [
       "array(['CANCELED', 'CLOSED', 'COMPLETE', 'ON_HOLD', 'PAYMENT_REVIEW',\n",
       "       'PENDING', 'PENDING_PAYMENT', 'PROCESSING', 'SUSPECTED_FRAUD'],\n",
       "      dtype=object)"
      ]
     },
     "execution_count": 2430,
     "metadata": {},
     "output_type": "execute_result"
    }
   ],
   "source": [
    "np.unique(data['Order Status'])"
   ]
  },
  {
   "cell_type": "markdown",
   "metadata": {},
   "source": [
    "##### Transformando variables categóricas"
   ]
  },
  {
   "cell_type": "code",
   "execution_count": 2431,
   "metadata": {},
   "outputs": [],
   "source": [
    "#Delivery Status\n",
    "delivery_mapping = {'Advance shipping':1, 'Late delivery':2, 'Shipping canceled':3, 'Shipping on time':4, \n",
    "                    'Missing':0, 'NA':0, 'NaN':0}"
   ]
  },
  {
   "cell_type": "code",
   "execution_count": 2432,
   "metadata": {},
   "outputs": [],
   "source": [
    "delivery_var = ['Delivery Status']"
   ]
  },
  {
   "cell_type": "code",
   "execution_count": 2433,
   "metadata": {},
   "outputs": [],
   "source": [
    "for var in delivery_var:\n",
    "    data[var] = data[var].map(delivery_mapping)"
   ]
  },
  {
   "cell_type": "code",
   "execution_count": 2434,
   "metadata": {},
   "outputs": [
    {
     "data": {
      "text/html": [
       "<div>\n",
       "<style scoped>\n",
       "    .dataframe tbody tr th:only-of-type {\n",
       "        vertical-align: middle;\n",
       "    }\n",
       "\n",
       "    .dataframe tbody tr th {\n",
       "        vertical-align: top;\n",
       "    }\n",
       "\n",
       "    .dataframe thead th {\n",
       "        text-align: right;\n",
       "    }\n",
       "</style>\n",
       "<table border=\"1\" class=\"dataframe\">\n",
       "  <thead>\n",
       "    <tr style=\"text-align: right;\">\n",
       "      <th></th>\n",
       "      <th>Delivery Status</th>\n",
       "    </tr>\n",
       "    <tr>\n",
       "      <th>ï»¿Type</th>\n",
       "      <th></th>\n",
       "    </tr>\n",
       "  </thead>\n",
       "  <tbody>\n",
       "    <tr>\n",
       "      <th>DEBIT</th>\n",
       "      <td>1</td>\n",
       "    </tr>\n",
       "    <tr>\n",
       "      <th>TRANSFER</th>\n",
       "      <td>2</td>\n",
       "    </tr>\n",
       "    <tr>\n",
       "      <th>CASH</th>\n",
       "      <td>4</td>\n",
       "    </tr>\n",
       "    <tr>\n",
       "      <th>DEBIT</th>\n",
       "      <td>1</td>\n",
       "    </tr>\n",
       "    <tr>\n",
       "      <th>PAYMENT</th>\n",
       "      <td>1</td>\n",
       "    </tr>\n",
       "  </tbody>\n",
       "</table>\n",
       "</div>"
      ],
      "text/plain": [
       "          Delivery Status\n",
       "ï»¿Type                  \n",
       "DEBIT                   1\n",
       "TRANSFER                2\n",
       "CASH                    4\n",
       "DEBIT                   1\n",
       "PAYMENT                 1"
      ]
     },
     "execution_count": 2434,
     "metadata": {},
     "output_type": "execute_result"
    }
   ],
   "source": [
    "data[delivery_var].head()"
   ]
  },
  {
   "cell_type": "code",
   "execution_count": 2435,
   "metadata": {},
   "outputs": [],
   "source": [
    "#Customer Segment\n",
    "segment_mapping = {'Consumer':1, 'Corporate':2, 'Home Office':3, 'Missing':0, 'NA':0, 'NaN':0}"
   ]
  },
  {
   "cell_type": "code",
   "execution_count": 2436,
   "metadata": {},
   "outputs": [],
   "source": [
    "segment_var = ['Customer Segment']"
   ]
  },
  {
   "cell_type": "code",
   "execution_count": 2437,
   "metadata": {},
   "outputs": [],
   "source": [
    "for var in segment_var:\n",
    "    data[var] = data[var].map(segment_mapping)"
   ]
  },
  {
   "cell_type": "code",
   "execution_count": 2438,
   "metadata": {},
   "outputs": [
    {
     "data": {
      "text/html": [
       "<div>\n",
       "<style scoped>\n",
       "    .dataframe tbody tr th:only-of-type {\n",
       "        vertical-align: middle;\n",
       "    }\n",
       "\n",
       "    .dataframe tbody tr th {\n",
       "        vertical-align: top;\n",
       "    }\n",
       "\n",
       "    .dataframe thead th {\n",
       "        text-align: right;\n",
       "    }\n",
       "</style>\n",
       "<table border=\"1\" class=\"dataframe\">\n",
       "  <thead>\n",
       "    <tr style=\"text-align: right;\">\n",
       "      <th></th>\n",
       "      <th>Customer Segment</th>\n",
       "    </tr>\n",
       "    <tr>\n",
       "      <th>ï»¿Type</th>\n",
       "      <th></th>\n",
       "    </tr>\n",
       "  </thead>\n",
       "  <tbody>\n",
       "    <tr>\n",
       "      <th>DEBIT</th>\n",
       "      <td>1</td>\n",
       "    </tr>\n",
       "    <tr>\n",
       "      <th>TRANSFER</th>\n",
       "      <td>1</td>\n",
       "    </tr>\n",
       "    <tr>\n",
       "      <th>CASH</th>\n",
       "      <td>1</td>\n",
       "    </tr>\n",
       "    <tr>\n",
       "      <th>DEBIT</th>\n",
       "      <td>3</td>\n",
       "    </tr>\n",
       "    <tr>\n",
       "      <th>PAYMENT</th>\n",
       "      <td>2</td>\n",
       "    </tr>\n",
       "  </tbody>\n",
       "</table>\n",
       "</div>"
      ],
      "text/plain": [
       "          Customer Segment\n",
       "ï»¿Type                   \n",
       "DEBIT                    1\n",
       "TRANSFER                 1\n",
       "CASH                     1\n",
       "DEBIT                    3\n",
       "PAYMENT                  2"
      ]
     },
     "execution_count": 2438,
     "metadata": {},
     "output_type": "execute_result"
    }
   ],
   "source": [
    "data[segment_var].head()"
   ]
  },
  {
   "cell_type": "code",
   "execution_count": 2439,
   "metadata": {},
   "outputs": [],
   "source": [
    "#Customer Country\n",
    "country_mapping = {'EE. UU.':1, 'Puerto Rico':2, 'Missing':0, 'NA':0, 'NaN':0}"
   ]
  },
  {
   "cell_type": "code",
   "execution_count": 2440,
   "metadata": {},
   "outputs": [],
   "source": [
    "country_var = ['Customer Country']"
   ]
  },
  {
   "cell_type": "code",
   "execution_count": 2441,
   "metadata": {},
   "outputs": [],
   "source": [
    "for var in country_var:\n",
    "    data[var] = data[var].map(country_mapping)"
   ]
  },
  {
   "cell_type": "code",
   "execution_count": 2442,
   "metadata": {},
   "outputs": [
    {
     "data": {
      "text/html": [
       "<div>\n",
       "<style scoped>\n",
       "    .dataframe tbody tr th:only-of-type {\n",
       "        vertical-align: middle;\n",
       "    }\n",
       "\n",
       "    .dataframe tbody tr th {\n",
       "        vertical-align: top;\n",
       "    }\n",
       "\n",
       "    .dataframe thead th {\n",
       "        text-align: right;\n",
       "    }\n",
       "</style>\n",
       "<table border=\"1\" class=\"dataframe\">\n",
       "  <thead>\n",
       "    <tr style=\"text-align: right;\">\n",
       "      <th></th>\n",
       "      <th>Customer Country</th>\n",
       "    </tr>\n",
       "    <tr>\n",
       "      <th>ï»¿Type</th>\n",
       "      <th></th>\n",
       "    </tr>\n",
       "  </thead>\n",
       "  <tbody>\n",
       "    <tr>\n",
       "      <th>DEBIT</th>\n",
       "      <td>2</td>\n",
       "    </tr>\n",
       "    <tr>\n",
       "      <th>TRANSFER</th>\n",
       "      <td>2</td>\n",
       "    </tr>\n",
       "    <tr>\n",
       "      <th>CASH</th>\n",
       "      <td>1</td>\n",
       "    </tr>\n",
       "    <tr>\n",
       "      <th>DEBIT</th>\n",
       "      <td>1</td>\n",
       "    </tr>\n",
       "    <tr>\n",
       "      <th>PAYMENT</th>\n",
       "      <td>2</td>\n",
       "    </tr>\n",
       "  </tbody>\n",
       "</table>\n",
       "</div>"
      ],
      "text/plain": [
       "          Customer Country\n",
       "ï»¿Type                   \n",
       "DEBIT                    2\n",
       "TRANSFER                 2\n",
       "CASH                     1\n",
       "DEBIT                    1\n",
       "PAYMENT                  2"
      ]
     },
     "execution_count": 2442,
     "metadata": {},
     "output_type": "execute_result"
    }
   ],
   "source": [
    "data[country_var].head()"
   ]
  },
  {
   "cell_type": "code",
   "execution_count": 2443,
   "metadata": {},
   "outputs": [],
   "source": [
    "#Shipping Mode\n",
    "shipping_mapping = {'First Class':1, 'Same Day':2, 'Second Class':3, 'Standard Class':4, 'Missing':0, 'NA':0, 'NaN':0}"
   ]
  },
  {
   "cell_type": "code",
   "execution_count": 2444,
   "metadata": {},
   "outputs": [],
   "source": [
    "shipping_var = ['Shipping Mode']"
   ]
  },
  {
   "cell_type": "code",
   "execution_count": 2445,
   "metadata": {},
   "outputs": [],
   "source": [
    "for var in shipping_var:\n",
    "    data[var] = data[var].map(shipping_mapping)"
   ]
  },
  {
   "cell_type": "code",
   "execution_count": 2446,
   "metadata": {},
   "outputs": [
    {
     "data": {
      "text/html": [
       "<div>\n",
       "<style scoped>\n",
       "    .dataframe tbody tr th:only-of-type {\n",
       "        vertical-align: middle;\n",
       "    }\n",
       "\n",
       "    .dataframe tbody tr th {\n",
       "        vertical-align: top;\n",
       "    }\n",
       "\n",
       "    .dataframe thead th {\n",
       "        text-align: right;\n",
       "    }\n",
       "</style>\n",
       "<table border=\"1\" class=\"dataframe\">\n",
       "  <thead>\n",
       "    <tr style=\"text-align: right;\">\n",
       "      <th></th>\n",
       "      <th>Shipping Mode</th>\n",
       "    </tr>\n",
       "    <tr>\n",
       "      <th>ï»¿Type</th>\n",
       "      <th></th>\n",
       "    </tr>\n",
       "  </thead>\n",
       "  <tbody>\n",
       "    <tr>\n",
       "      <th>DEBIT</th>\n",
       "      <td>4</td>\n",
       "    </tr>\n",
       "    <tr>\n",
       "      <th>TRANSFER</th>\n",
       "      <td>4</td>\n",
       "    </tr>\n",
       "    <tr>\n",
       "      <th>CASH</th>\n",
       "      <td>4</td>\n",
       "    </tr>\n",
       "    <tr>\n",
       "      <th>DEBIT</th>\n",
       "      <td>4</td>\n",
       "    </tr>\n",
       "    <tr>\n",
       "      <th>PAYMENT</th>\n",
       "      <td>4</td>\n",
       "    </tr>\n",
       "  </tbody>\n",
       "</table>\n",
       "</div>"
      ],
      "text/plain": [
       "          Shipping Mode\n",
       "ï»¿Type                \n",
       "DEBIT                 4\n",
       "TRANSFER              4\n",
       "CASH                  4\n",
       "DEBIT                 4\n",
       "PAYMENT               4"
      ]
     },
     "execution_count": 2446,
     "metadata": {},
     "output_type": "execute_result"
    }
   ],
   "source": [
    "data[shipping_var].head()"
   ]
  },
  {
   "cell_type": "code",
   "execution_count": 2447,
   "metadata": {},
   "outputs": [],
   "source": [
    "#Market\n",
    "market_mapping = {'Africa':1, 'Europe':2, 'LATAM':3, 'Pacific Asia':4, 'USCA':5, 'Missing':0, 'NA':0, 'NaN':0}"
   ]
  },
  {
   "cell_type": "code",
   "execution_count": 2448,
   "metadata": {},
   "outputs": [],
   "source": [
    "market_var = ['Market']"
   ]
  },
  {
   "cell_type": "code",
   "execution_count": 2449,
   "metadata": {},
   "outputs": [],
   "source": [
    "for var in market_var:\n",
    "    data[var] = data[var].map(market_mapping)"
   ]
  },
  {
   "cell_type": "code",
   "execution_count": 2450,
   "metadata": {},
   "outputs": [
    {
     "data": {
      "text/html": [
       "<div>\n",
       "<style scoped>\n",
       "    .dataframe tbody tr th:only-of-type {\n",
       "        vertical-align: middle;\n",
       "    }\n",
       "\n",
       "    .dataframe tbody tr th {\n",
       "        vertical-align: top;\n",
       "    }\n",
       "\n",
       "    .dataframe thead th {\n",
       "        text-align: right;\n",
       "    }\n",
       "</style>\n",
       "<table border=\"1\" class=\"dataframe\">\n",
       "  <thead>\n",
       "    <tr style=\"text-align: right;\">\n",
       "      <th></th>\n",
       "      <th>Market</th>\n",
       "    </tr>\n",
       "    <tr>\n",
       "      <th>ï»¿Type</th>\n",
       "      <th></th>\n",
       "    </tr>\n",
       "  </thead>\n",
       "  <tbody>\n",
       "    <tr>\n",
       "      <th>DEBIT</th>\n",
       "      <td>4</td>\n",
       "    </tr>\n",
       "    <tr>\n",
       "      <th>TRANSFER</th>\n",
       "      <td>4</td>\n",
       "    </tr>\n",
       "    <tr>\n",
       "      <th>CASH</th>\n",
       "      <td>4</td>\n",
       "    </tr>\n",
       "    <tr>\n",
       "      <th>DEBIT</th>\n",
       "      <td>4</td>\n",
       "    </tr>\n",
       "    <tr>\n",
       "      <th>PAYMENT</th>\n",
       "      <td>4</td>\n",
       "    </tr>\n",
       "  </tbody>\n",
       "</table>\n",
       "</div>"
      ],
      "text/plain": [
       "          Market\n",
       "ï»¿Type         \n",
       "DEBIT          4\n",
       "TRANSFER       4\n",
       "CASH           4\n",
       "DEBIT          4\n",
       "PAYMENT        4"
      ]
     },
     "execution_count": 2450,
     "metadata": {},
     "output_type": "execute_result"
    }
   ],
   "source": [
    "data[market_var].head()"
   ]
  },
  {
   "cell_type": "code",
   "execution_count": 2451,
   "metadata": {},
   "outputs": [],
   "source": [
    "#Order Status\n",
    "#order_mapping = {'CANCELED':1, 'CLOSED':2, 'COMPLETE':3, 'ON_HOLD':4, 'PAYMENT_REVIEW':5, 'PENDING':6,\n",
    "                  #'PENDING_PAYMENT':7, 'PROCESSING':8, 'SUSPECTED_FRAUD':9, 'Missing':0, 'NA':0, 'NaN':0}"
   ]
  },
  {
   "cell_type": "code",
   "execution_count": 2452,
   "metadata": {},
   "outputs": [],
   "source": [
    "#order_var = ['Order Status']"
   ]
  },
  {
   "cell_type": "code",
   "execution_count": 2453,
   "metadata": {},
   "outputs": [],
   "source": [
    "#for var in order_var:\n",
    "    #data[var] = data[var].map(order_mapping)"
   ]
  },
  {
   "cell_type": "code",
   "execution_count": 2454,
   "metadata": {},
   "outputs": [],
   "source": [
    "#data[order_var].head()"
   ]
  },
  {
   "cell_type": "code",
   "execution_count": 2455,
   "metadata": {},
   "outputs": [],
   "source": [
    "transfor_vars = delivery_var + segment_var + country_var + shipping_var + market_var #+ order_var"
   ]
  },
  {
   "cell_type": "code",
   "execution_count": 2456,
   "metadata": {},
   "outputs": [
    {
     "data": {
      "image/png": "[encoded data removed]",
      "text/plain": [
       "<Figure size 432x288 with 1 Axes>"
      ]
     },
     "metadata": {},
     "output_type": "display_data"
    },
    {
     "data": {
      "image/png": "[encoded data removed]",
      "text/plain": [
       "<Figure size 432x288 with 1 Axes>"
      ]
     },
     "metadata": {},
     "output_type": "display_data"
    },
    {
     "data": {
      "image/png": "[encoded data removed]",
      "text/plain": [
       "<Figure size 432x288 with 1 Axes>"
      ]
     },
     "metadata": {},
     "output_type": "display_data"
    },
    {
     "data": {
      "image/png": "[encoded data removed]",
      "text/plain": [
       "<Figure size 432x288 with 1 Axes>"
      ]
     },
     "metadata": {},
     "output_type": "display_data"
    },
    {
     "data": {
      "image/png": "[encoded data removed]",
      "text/plain": [
       "<Figure size 432x288 with 1 Axes>"
      ]
     },
     "metadata": {},
     "output_type": "display_data"
    }
   ],
   "source": [
    "for var in transfor_vars:\n",
    "    sns.catplot(x=var, y = 'Sales per customer', data=data, kind=\"box\", height=4, aspect=1.5)\n",
    "    sns.stripplot(x=var, y='Sales per customer', data=data, jitter=0.1, alpha=0.3,color='k')\n",
    "    plt.show()"
   ]
  },
  {
   "cell_type": "code",
   "execution_count": 2457,
   "metadata": {},
   "outputs": [],
   "source": [
    "otras = [var for var in cat_vars if var not in transfor_vars]"
   ]
  },
  {
   "cell_type": "code",
   "execution_count": 2458,
   "metadata": {},
   "outputs": [
    {
     "data": {
      "text/plain": [
       "9"
      ]
     },
     "execution_count": 2458,
     "metadata": {},
     "output_type": "execute_result"
    }
   ],
   "source": [
    "len(otras)"
   ]
  },
  {
   "cell_type": "markdown",
   "metadata": {},
   "source": [
    "### 2.8 Rare Labels"
   ]
  },
  {
   "cell_type": "code",
   "execution_count": 2459,
   "metadata": {},
   "outputs": [],
   "source": [
    "def analyse_rare_labels(df, var, rare_perc):\n",
    "    temp = df.groupby(var)['Sales per customer'].count()/len(df)\n",
    "    \n",
    "    return temp[temp < rare_perc]"
   ]
  },
  {
   "cell_type": "code",
   "execution_count": 2460,
   "metadata": {},
   "outputs": [
    {
     "name": "stdout",
     "output_type": "stream",
     "text": [
      "Customer City\n",
      "Aguadilla      0.000277\n",
      "Alameda        0.000654\n",
      "Albany         0.000393\n",
      "Albuquerque    0.003058\n",
      "Algonquin      0.000709\n",
      "                 ...   \n",
      "Yonkers        0.000764\n",
      "York           0.001335\n",
      "Ypsilanti      0.000798\n",
      "Yuma           0.000510\n",
      "Zanesville     0.000637\n",
      "Name: Sales per customer, Length: 558, dtype: float64\n",
      "\n",
      "Customer Lname\n",
      "Abbott       0.000166\n",
      "Acevedo      0.000521\n",
      "Acosta       0.000576\n",
      "Adams        0.001651\n",
      "Adkins       0.000415\n",
      "               ...   \n",
      "Zamora       0.000548\n",
      "Zavala       0.000094\n",
      "Zhang        0.000249\n",
      "Zimmerman    0.000881\n",
      "Zuniga       0.000055\n",
      "Name: Sales per customer, Length: 1108, dtype: float64\n",
      "\n",
      "Customer State\n",
      "91732    0.000006\n",
      "95758    0.000011\n",
      "AL       0.000194\n",
      "AR       0.000908\n",
      "CT       0.006060\n",
      "DC       0.003207\n",
      "DE       0.001490\n",
      "HI       0.006913\n",
      "IA       0.000371\n",
      "ID       0.000925\n",
      "IN       0.003218\n",
      "KS       0.002537\n",
      "KY       0.002698\n",
      "LA       0.005252\n",
      "MA       0.008902\n",
      "MN       0.003723\n",
      "MO       0.007501\n",
      "MT       0.000482\n",
      "ND       0.001191\n",
      "NM       0.005257\n",
      "NV       0.007977\n",
      "OK       0.001285\n",
      "OR       0.009240\n",
      "RI       0.001346\n",
      "SC       0.003684\n",
      "TN       0.008764\n",
      "UT       0.005362\n",
      "WA       0.005096\n",
      "WI       0.004709\n",
      "WV       0.001335\n",
      "Name: Sales per customer, dtype: float64\n",
      "\n",
      "Order City\n",
      "Aachen                     0.000349\n",
      "Aalen                      0.000017\n",
      "Aalst                      0.000127\n",
      "Aba                        0.000199\n",
      "Abadan                     0.000183\n",
      "                             ...   \n",
      "Zwolle                     0.000050\n",
      "eMbalenhle                 0.000039\n",
      "Ãguas Lindas de GoiÃ¡s    0.000072\n",
      "Ãanakkale                 0.000033\n",
      "ÃstÃ­ nad Labem           0.000078\n",
      "Name: Sales per customer, Length: 3594, dtype: float64\n",
      "\n",
      "Order Country\n",
      "AfganistÃ¡n      0.000903\n",
      "Albania          0.000205\n",
      "Angola           0.001695\n",
      "Arabia SaudÃ­    0.004764\n",
      "Argelia          0.002858\n",
      "                   ...   \n",
      "Vietnam          0.004193\n",
      "Yemen            0.000393\n",
      "Yibuti           0.000172\n",
      "Zambia           0.001474\n",
      "Zimbabue         0.001053\n",
      "Name: Sales per customer, Length: 140, dtype: float64\n",
      "\n",
      "Order State\n",
      "Abia                0.000199\n",
      "Abruzos             0.000338\n",
      "Aceh                0.000105\n",
      "Acre                0.000199\n",
      "Adamaoua            0.000078\n",
      "                      ...   \n",
      "Ãanakkale          0.000033\n",
      "Ãquateur           0.000260\n",
      "ÃstÃ­ nad Labem    0.000078\n",
      "Å iauliai           0.000044\n",
      "Å½ilina             0.000028\n",
      "Name: Sales per customer, Length: 1073, dtype: float64\n",
      "\n",
      "Series([], Name: Sales per customer, dtype: float64)\n",
      "\n",
      "Product Name\n",
      "Adult dog supplies                               0.002725\n",
      "Baby sweater                                     0.001147\n",
      "Bag Boy Beverage Holder                          0.001546\n",
      "Bag Boy M330 Push Cart                           0.000382\n",
      "Bowflex SelectTech 1090 Dumbbells                0.000055\n",
      "                                                   ...   \n",
      "adidas Kids' F5 Messi FG Soccer Cleat            0.001451\n",
      "adidas Men's F10 Messi TRX FG Soccer Cleat       0.001690\n",
      "adidas Men's Germany Black Crest Away Tee        0.001601\n",
      "adidas Youth Germany Black/Red Away Match Soc    0.001739\n",
      "insta-bed Neverflat Air Mattress                 0.000332\n",
      "Name: Sales per customer, Length: 109, dtype: float64\n",
      "\n",
      "Series([], Name: Sales per customer, dtype: float64)\n",
      "\n"
     ]
    }
   ],
   "source": [
    "for var in otras:\n",
    "    print(analyse_rare_labels(data, var, 0.01))\n",
    "    print()"
   ]
  },
  {
   "cell_type": "code",
   "execution_count": 2461,
   "metadata": {},
   "outputs": [],
   "source": [
    "#for var in otras:\n",
    "    #sns.catplot(x=var, y = 'Sales per customer', data=data, kind=\"box\", height=4, aspect=1.5)\n",
    "    #sns.stripplot(x=var, y='Sales per customer', data=data, jitter=0.1, alpha=0.3,color='k')\n",
    "    #plt.show()"
   ]
  },
  {
   "cell_type": "code",
   "execution_count": 2462,
   "metadata": {},
   "outputs": [
    {
     "name": "stdout",
     "output_type": "stream",
     "text": [
      "<function analyse_rare_labels at 0x0000021BBC366E50>\n"
     ]
    }
   ],
   "source": [
    "print(analyse_rare_labels)"
   ]
  },
  {
   "cell_type": "markdown",
   "metadata": {},
   "source": [
    "### Split para analisis de datos previo a generar modelo"
   ]
  },
  {
   "cell_type": "code",
   "execution_count": 2463,
   "metadata": {},
   "outputs": [],
   "source": [
    "#separamos data para entrenamiento y prueba,\n",
    "X_train, X_test, y_train, y_test = train_test_split(\n",
    "                        data.drop(['Sales per customer'], axis=1),\n",
    "                        data['Sales per customer'],\n",
    "                        test_size=0.25,\n",
    "                        random_state=2021)"
   ]
  },
  {
   "cell_type": "code",
   "execution_count": 2464,
   "metadata": {},
   "outputs": [
    {
     "data": {
      "text/plain": [
       "((135389, 20), (45130, 20), (135389,))"
      ]
     },
     "execution_count": 2464,
     "metadata": {},
     "output_type": "execute_result"
    }
   ],
   "source": [
    "X_train.shape, X_test.shape, y_train.shape"
   ]
  },
  {
   "cell_type": "markdown",
   "metadata": {},
   "source": [
    "### 2.10 Missing Values"
   ]
  },
  {
   "cell_type": "code",
   "execution_count": 2465,
   "metadata": {},
   "outputs": [],
   "source": [
    "cat_vars = [var for var in data.columns if data[var].dtype == 'O']\n",
    "cat_vars = cat_vars + ['Late_delivery_risk'] "
   ]
  },
  {
   "cell_type": "code",
   "execution_count": 2466,
   "metadata": {},
   "outputs": [],
   "source": [
    "X_train[cat_vars] = X_train[cat_vars].astype('O')\n",
    "X_test[cat_vars] = X_test[cat_vars].astype('O')"
   ]
  },
  {
   "cell_type": "code",
   "execution_count": 2467,
   "metadata": {},
   "outputs": [
    {
     "data": {
      "text/plain": [
       "10"
      ]
     },
     "execution_count": 2467,
     "metadata": {},
     "output_type": "execute_result"
    }
   ],
   "source": [
    "len(cat_vars)"
   ]
  },
  {
   "cell_type": "markdown",
   "metadata": {},
   "source": [
    "##### 2.10.1.1 Detección de NaN en variables categórias"
   ]
  },
  {
   "cell_type": "code",
   "execution_count": 2468,
   "metadata": {},
   "outputs": [],
   "source": [
    "cat_vars_with_na = [var for var in cat_vars \n",
    "                        if X_train[var].isnull().sum() > 0]"
   ]
  },
  {
   "cell_type": "code",
   "execution_count": 2469,
   "metadata": {},
   "outputs": [
    {
     "data": {
      "text/plain": [
       "['Customer Lname']"
      ]
     },
     "execution_count": 2469,
     "metadata": {},
     "output_type": "execute_result"
    }
   ],
   "source": [
    "cat_vars_with_na"
   ]
  },
  {
   "cell_type": "code",
   "execution_count": 2470,
   "metadata": {},
   "outputs": [
    {
     "data": {
      "text/plain": [
       "Customer Lname    0.000052\n",
       "dtype: float64"
      ]
     },
     "execution_count": 2470,
     "metadata": {},
     "output_type": "execute_result"
    }
   ],
   "source": [
    "X_train[cat_vars_with_na].isnull().mean().sort_values(ascending = False)"
   ]
  },
  {
   "cell_type": "code",
   "execution_count": 2471,
   "metadata": {},
   "outputs": [],
   "source": [
    "#variables tratadas con etiqueta de faltante por cantidad masiva de faltantes.\n",
    "vars_with_missing_string = [var for var in cat_vars_with_na if X_train[var].isnull().mean() > 0.2]\n",
    "\n",
    "#variables tratadas con procedimiento por candiad adecuada de faltantes.\n",
    "vars_freq_category = [var for var in cat_vars_with_na if X_train[var].isnull().mean() <= 0.2]"
   ]
  },
  {
   "cell_type": "code",
   "execution_count": 2472,
   "metadata": {},
   "outputs": [
    {
     "data": {
      "text/plain": [
       "[]"
      ]
     },
     "execution_count": 2472,
     "metadata": {},
     "output_type": "execute_result"
    }
   ],
   "source": [
    "vars_with_missing_string"
   ]
  },
  {
   "cell_type": "code",
   "execution_count": 2473,
   "metadata": {},
   "outputs": [
    {
     "data": {
      "text/plain": [
       "['Customer Lname']"
      ]
     },
     "execution_count": 2473,
     "metadata": {},
     "output_type": "execute_result"
    }
   ],
   "source": [
    "vars_freq_category"
   ]
  },
  {
   "cell_type": "code",
   "execution_count": 2474,
   "metadata": {},
   "outputs": [],
   "source": [
    "#Aplicamos criterio para tratar data faltante\n",
    "\n",
    "#Faltantes con etiqueta missing\n",
    "X_train[vars_with_missing_string] = X_train[vars_with_missing_string].fillna('Missing')\n",
    "X_test[vars_with_missing_string] = X_test[vars_with_missing_string].fillna('Missing')"
   ]
  },
  {
   "cell_type": "code",
   "execution_count": 2475,
   "metadata": {},
   "outputs": [
    {
     "name": "stdout",
     "output_type": "stream",
     "text": [
      "Customer Lname ------- Smith\n"
     ]
    }
   ],
   "source": [
    "for var in vars_freq_category:\n",
    "    mode = X_train[var].mode()[0]\n",
    "    \n",
    "    X_train[var].fillna(mode, inplace=True)\n",
    "    X_test[var].fillna(mode, inplace=True)\n",
    "    \n",
    "    print(var, \"-------\", mode)"
   ]
  },
  {
   "cell_type": "code",
   "execution_count": 2476,
   "metadata": {},
   "outputs": [
    {
     "data": {
      "text/plain": [
       "'Smith'"
      ]
     },
     "execution_count": 2476,
     "metadata": {},
     "output_type": "execute_result"
    }
   ],
   "source": [
    "X_train['Customer Lname'].mode()[0]"
   ]
  },
  {
   "cell_type": "code",
   "execution_count": 2477,
   "metadata": {},
   "outputs": [
    {
     "data": {
      "text/plain": [
       "Customer Lname    0.0\n",
       "dtype: float64"
      ]
     },
     "execution_count": 2477,
     "metadata": {},
     "output_type": "execute_result"
    }
   ],
   "source": [
    "X_train[cat_vars_with_na].isnull().mean().sort_values(ascending = False)"
   ]
  },
  {
   "cell_type": "code",
   "execution_count": 2478,
   "metadata": {},
   "outputs": [
    {
     "data": {
      "text/plain": [
       "[]"
      ]
     },
     "execution_count": 2478,
     "metadata": {},
     "output_type": "execute_result"
    }
   ],
   "source": [
    "cat_vars_with_na = [var for var in cat_vars \n",
    "                        if X_train[var].isnull().sum() > 0]\n",
    "cat_vars_with_na"
   ]
  },
  {
   "cell_type": "markdown",
   "metadata": {},
   "source": [
    "#### 2.10.2 Missing Values para Variables Numéricas"
   ]
  },
  {
   "cell_type": "code",
   "execution_count": 2479,
   "metadata": {},
   "outputs": [],
   "source": [
    "num_vars = [var for var in X_train.columns if var not in cat_vars and var != 'Sales per customer']"
   ]
  },
  {
   "cell_type": "code",
   "execution_count": 2480,
   "metadata": {},
   "outputs": [
    {
     "data": {
      "text/plain": [
       "11"
      ]
     },
     "execution_count": 2480,
     "metadata": {},
     "output_type": "execute_result"
    }
   ],
   "source": [
    "len(num_vars)"
   ]
  },
  {
   "cell_type": "code",
   "execution_count": 2481,
   "metadata": {},
   "outputs": [],
   "source": [
    "##Numéricas con faltantes\n",
    "num_vars_with_na = [var for var in num_vars\n",
    "                       if X_train[var].isnull().sum() > 0]"
   ]
  },
  {
   "cell_type": "code",
   "execution_count": 2482,
   "metadata": {},
   "outputs": [
    {
     "data": {
      "text/plain": [
       "Series([], dtype: float64)"
      ]
     },
     "execution_count": 2482,
     "metadata": {},
     "output_type": "execute_result"
    }
   ],
   "source": [
    "X_train[num_vars_with_na].isnull().mean()"
   ]
  },
  {
   "cell_type": "code",
   "execution_count": 2483,
   "metadata": {},
   "outputs": [],
   "source": [
    "#Eliminamos las siguientes variables porque presentan muchas categorias, informacion no es representativa para la data.\n",
    "\n",
    "X_train.drop('Customer Lname', axis=1, inplace=True)\n",
    "X_test.drop('Customer Lname', axis=1, inplace=True)\n",
    "X_train.drop('Customer City', axis=1, inplace=True)\n",
    "X_test.drop('Customer City', axis=1, inplace=True)\n",
    "X_train.drop('Customer State', axis=1, inplace=True)\n",
    "X_test.drop('Customer State', axis=1, inplace=True)\n",
    "X_train.drop('Order City', axis=1, inplace=True)\n",
    "X_test.drop('Order City', axis=1, inplace=True)\n",
    "X_train.drop('Order Country', axis=1, inplace=True)\n",
    "X_test.drop('Order Country', axis=1, inplace=True)\n",
    "X_train.drop('Order State', axis=1, inplace=True)\n",
    "X_test.drop('Order State', axis=1, inplace=True)\n",
    "X_train.drop('Product Name', axis=1, inplace=True)\n",
    "X_test.drop('Product Name', axis=1, inplace=True)\n",
    "X_train.drop('Order Status', axis=1, inplace=True)\n",
    "X_test.drop('Order Status', axis=1, inplace=True)"
   ]
  },
  {
   "cell_type": "markdown",
   "metadata": {},
   "source": [
    "### 2.14 Feature Scaling"
   ]
  },
  {
   "cell_type": "code",
   "execution_count": 2484,
   "metadata": {},
   "outputs": [],
   "source": [
    "X_train.replace([np.inf, -np.inf], np.nan, inplace=True)\n",
    "X_test.replace([np.inf, -np.inf], np.nan, inplace=True)\n",
    "\n",
    "scaler = MinMaxScaler()\n",
    "\n",
    "scaler.fit(X_train)\n",
    "\n",
    "X_train = pd.DataFrame(\n",
    "    scaler.transform(X_train),\n",
    "    columns=X_train.columns\n",
    ")\n",
    "\n",
    "\n",
    "X_test = pd.DataFrame(\n",
    "    scaler.transform(X_test),\n",
    "    columns=X_test.columns\n",
    ")"
   ]
  },
  {
   "cell_type": "code",
   "execution_count": 2485,
   "metadata": {},
   "outputs": [
    {
     "data": {
      "text/html": [
       "<div>\n",
       "<style scoped>\n",
       "    .dataframe tbody tr th:only-of-type {\n",
       "        vertical-align: middle;\n",
       "    }\n",
       "\n",
       "    .dataframe tbody tr th {\n",
       "        vertical-align: top;\n",
       "    }\n",
       "\n",
       "    .dataframe thead th {\n",
       "        text-align: right;\n",
       "    }\n",
       "</style>\n",
       "<table border=\"1\" class=\"dataframe\">\n",
       "  <thead>\n",
       "    <tr style=\"text-align: right;\">\n",
       "      <th></th>\n",
       "      <th>Delivery Status</th>\n",
       "      <th>Late_delivery_risk</th>\n",
       "      <th>Customer Country</th>\n",
       "      <th>Customer Segment</th>\n",
       "      <th>Market</th>\n",
       "      <th>Order Item Product Price</th>\n",
       "      <th>Order Item Profit Ratio</th>\n",
       "      <th>Order Item Quantity</th>\n",
       "      <th>Sales</th>\n",
       "      <th>Order Item Total</th>\n",
       "      <th>Product Price</th>\n",
       "      <th>Shipping Mode</th>\n",
       "    </tr>\n",
       "  </thead>\n",
       "  <tbody>\n",
       "    <tr>\n",
       "      <th>0</th>\n",
       "      <td>0.333333</td>\n",
       "      <td>1.0</td>\n",
       "      <td>0.0</td>\n",
       "      <td>0.0</td>\n",
       "      <td>0.25</td>\n",
       "      <td>0.095477</td>\n",
       "      <td>0.990769</td>\n",
       "      <td>0.00</td>\n",
       "      <td>0.095477</td>\n",
       "      <td>0.089263</td>\n",
       "      <td>0.095477</td>\n",
       "      <td>1.0</td>\n",
       "    </tr>\n",
       "    <tr>\n",
       "      <th>1</th>\n",
       "      <td>0.666667</td>\n",
       "      <td>0.0</td>\n",
       "      <td>1.0</td>\n",
       "      <td>0.0</td>\n",
       "      <td>0.00</td>\n",
       "      <td>0.030156</td>\n",
       "      <td>0.956923</td>\n",
       "      <td>0.00</td>\n",
       "      <td>0.030156</td>\n",
       "      <td>0.029087</td>\n",
       "      <td>0.030156</td>\n",
       "      <td>0.0</td>\n",
       "    </tr>\n",
       "    <tr>\n",
       "      <th>2</th>\n",
       "      <td>0.333333</td>\n",
       "      <td>1.0</td>\n",
       "      <td>1.0</td>\n",
       "      <td>0.0</td>\n",
       "      <td>0.75</td>\n",
       "      <td>0.045226</td>\n",
       "      <td>0.916923</td>\n",
       "      <td>0.75</td>\n",
       "      <td>0.195965</td>\n",
       "      <td>0.151348</td>\n",
       "      <td>0.045226</td>\n",
       "      <td>0.0</td>\n",
       "    </tr>\n",
       "    <tr>\n",
       "      <th>3</th>\n",
       "      <td>0.000000</td>\n",
       "      <td>0.0</td>\n",
       "      <td>0.0</td>\n",
       "      <td>0.0</td>\n",
       "      <td>0.75</td>\n",
       "      <td>0.045226</td>\n",
       "      <td>0.876923</td>\n",
       "      <td>0.00</td>\n",
       "      <td>0.045226</td>\n",
       "      <td>0.045278</td>\n",
       "      <td>0.045226</td>\n",
       "      <td>1.0</td>\n",
       "    </tr>\n",
       "    <tr>\n",
       "      <th>4</th>\n",
       "      <td>0.333333</td>\n",
       "      <td>1.0</td>\n",
       "      <td>0.0</td>\n",
       "      <td>0.0</td>\n",
       "      <td>0.75</td>\n",
       "      <td>0.095477</td>\n",
       "      <td>0.972308</td>\n",
       "      <td>0.00</td>\n",
       "      <td>0.095477</td>\n",
       "      <td>0.083053</td>\n",
       "      <td>0.095477</td>\n",
       "      <td>0.0</td>\n",
       "    </tr>\n",
       "  </tbody>\n",
       "</table>\n",
       "</div>"
      ],
      "text/plain": [
       "   Delivery Status  Late_delivery_risk  Customer Country  Customer Segment  \\\n",
       "0         0.333333                 1.0               0.0               0.0   \n",
       "1         0.666667                 0.0               1.0               0.0   \n",
       "2         0.333333                 1.0               1.0               0.0   \n",
       "3         0.000000                 0.0               0.0               0.0   \n",
       "4         0.333333                 1.0               0.0               0.0   \n",
       "\n",
       "   Market  Order Item Product Price  Order Item Profit Ratio  \\\n",
       "0    0.25                  0.095477                 0.990769   \n",
       "1    0.00                  0.030156                 0.956923   \n",
       "2    0.75                  0.045226                 0.916923   \n",
       "3    0.75                  0.045226                 0.876923   \n",
       "4    0.75                  0.095477                 0.972308   \n",
       "\n",
       "   Order Item Quantity     Sales  Order Item Total  Product Price  \\\n",
       "0                 0.00  0.095477          0.089263       0.095477   \n",
       "1                 0.00  0.030156          0.029087       0.030156   \n",
       "2                 0.75  0.195965          0.151348       0.045226   \n",
       "3                 0.00  0.045226          0.045278       0.045226   \n",
       "4                 0.00  0.095477          0.083053       0.095477   \n",
       "\n",
       "   Shipping Mode  \n",
       "0            1.0  \n",
       "1            0.0  \n",
       "2            0.0  \n",
       "3            1.0  \n",
       "4            0.0  "
      ]
     },
     "execution_count": 2485,
     "metadata": {},
     "output_type": "execute_result"
    }
   ],
   "source": [
    "X_train.head()"
   ]
  },
  {
   "cell_type": "code",
   "execution_count": 2486,
   "metadata": {},
   "outputs": [
    {
     "data": {
      "text/plain": [
       "Sales per customer          float64\n",
       "Delivery Status               int64\n",
       "Late_delivery_risk           object\n",
       "Customer City                object\n",
       "Customer Country              int64\n",
       "Customer Lname               object\n",
       "Customer Segment              int64\n",
       "Customer State               object\n",
       "Market                        int64\n",
       "Order City                   object\n",
       "Order Country                object\n",
       "Order Item Product Price    float64\n",
       "Order Item Profit Ratio     float64\n",
       "Order Item Quantity           int64\n",
       "Sales                       float64\n",
       "Order Item Total            float64\n",
       "Order State                  object\n",
       "Order Status                 object\n",
       "Product Name                 object\n",
       "Product Price               float64\n",
       "Shipping Mode                 int64\n",
       "dtype: object"
      ]
     },
     "execution_count": 2486,
     "metadata": {},
     "output_type": "execute_result"
    }
   ],
   "source": [
    "data.dtypes"
   ]
  },
  {
   "cell_type": "code",
   "execution_count": 2487,
   "metadata": {},
   "outputs": [],
   "source": [
    "#Guardamos dataset con data preparada para entrenamiento.\n",
    "\n",
    "X_train.to_csv('preprocess_data/prep_Xtrain.csv', index=False)\n",
    "X_test.to_csv('preprocess_data/prep_Xtest.csv', index=False)\n",
    "\n",
    "y_train.to_csv('preprocess_data/prep_ytrain.csv', index=False)\n",
    "y_test.to_csv('preprocess_data/prep_ytest.csv', index=False)"
   ]
  },
  {
   "cell_type": "code",
   "execution_count": 2488,
   "metadata": {},
   "outputs": [
    {
     "data": {
      "text/plain": [
       "['preprocess_data/minmax_scaler.joblib']"
      ]
     },
     "execution_count": 2488,
     "metadata": {},
     "output_type": "execute_result"
    }
   ],
   "source": [
    "joblib.dump(scaler, 'preprocess_data/minmax_scaler.joblib')"
   ]
  },
  {
   "cell_type": "markdown",
   "metadata": {},
   "source": [
    "### 2.15 Selección de variables"
   ]
  },
  {
   "cell_type": "code",
   "execution_count": 2489,
   "metadata": {},
   "outputs": [
    {
     "data": {
      "text/html": [
       "<div>\n",
       "<style scoped>\n",
       "    .dataframe tbody tr th:only-of-type {\n",
       "        vertical-align: middle;\n",
       "    }\n",
       "\n",
       "    .dataframe tbody tr th {\n",
       "        vertical-align: top;\n",
       "    }\n",
       "\n",
       "    .dataframe thead th {\n",
       "        text-align: right;\n",
       "    }\n",
       "</style>\n",
       "<table border=\"1\" class=\"dataframe\">\n",
       "  <thead>\n",
       "    <tr style=\"text-align: right;\">\n",
       "      <th></th>\n",
       "      <th>Delivery Status</th>\n",
       "      <th>Late_delivery_risk</th>\n",
       "      <th>Customer Country</th>\n",
       "      <th>Customer Segment</th>\n",
       "      <th>Market</th>\n",
       "      <th>Order Item Product Price</th>\n",
       "      <th>Order Item Profit Ratio</th>\n",
       "      <th>Order Item Quantity</th>\n",
       "      <th>Sales</th>\n",
       "      <th>Order Item Total</th>\n",
       "      <th>Product Price</th>\n",
       "      <th>Shipping Mode</th>\n",
       "    </tr>\n",
       "  </thead>\n",
       "  <tbody>\n",
       "    <tr>\n",
       "      <th>0</th>\n",
       "      <td>0.333333</td>\n",
       "      <td>1.0</td>\n",
       "      <td>0.0</td>\n",
       "      <td>0.0</td>\n",
       "      <td>0.25</td>\n",
       "      <td>0.095477</td>\n",
       "      <td>0.990769</td>\n",
       "      <td>0.00</td>\n",
       "      <td>0.095477</td>\n",
       "      <td>0.089263</td>\n",
       "      <td>0.095477</td>\n",
       "      <td>1.0</td>\n",
       "    </tr>\n",
       "    <tr>\n",
       "      <th>1</th>\n",
       "      <td>0.666667</td>\n",
       "      <td>0.0</td>\n",
       "      <td>1.0</td>\n",
       "      <td>0.0</td>\n",
       "      <td>0.00</td>\n",
       "      <td>0.030156</td>\n",
       "      <td>0.956923</td>\n",
       "      <td>0.00</td>\n",
       "      <td>0.030156</td>\n",
       "      <td>0.029087</td>\n",
       "      <td>0.030156</td>\n",
       "      <td>0.0</td>\n",
       "    </tr>\n",
       "    <tr>\n",
       "      <th>2</th>\n",
       "      <td>0.333333</td>\n",
       "      <td>1.0</td>\n",
       "      <td>1.0</td>\n",
       "      <td>0.0</td>\n",
       "      <td>0.75</td>\n",
       "      <td>0.045226</td>\n",
       "      <td>0.916923</td>\n",
       "      <td>0.75</td>\n",
       "      <td>0.195965</td>\n",
       "      <td>0.151348</td>\n",
       "      <td>0.045226</td>\n",
       "      <td>0.0</td>\n",
       "    </tr>\n",
       "  </tbody>\n",
       "</table>\n",
       "</div>"
      ],
      "text/plain": [
       "   Delivery Status  Late_delivery_risk  Customer Country  Customer Segment  \\\n",
       "0         0.333333                 1.0               0.0               0.0   \n",
       "1         0.666667                 0.0               1.0               0.0   \n",
       "2         0.333333                 1.0               1.0               0.0   \n",
       "\n",
       "   Market  Order Item Product Price  Order Item Profit Ratio  \\\n",
       "0    0.25                  0.095477                 0.990769   \n",
       "1    0.00                  0.030156                 0.956923   \n",
       "2    0.75                  0.045226                 0.916923   \n",
       "\n",
       "   Order Item Quantity     Sales  Order Item Total  Product Price  \\\n",
       "0                 0.00  0.095477          0.089263       0.095477   \n",
       "1                 0.00  0.030156          0.029087       0.030156   \n",
       "2                 0.75  0.195965          0.151348       0.045226   \n",
       "\n",
       "   Shipping Mode  \n",
       "0            1.0  \n",
       "1            0.0  \n",
       "2            0.0  "
      ]
     },
     "execution_count": 2489,
     "metadata": {},
     "output_type": "execute_result"
    }
   ],
   "source": [
    "X_train = pd.read_csv(\"preprocess_data/prep_Xtrain.csv\")\n",
    "X_test = pd.read_csv(\"preprocess_data/prep_Xtest.csv\")\n",
    "X_train.head(3)"
   ]
  },
  {
   "cell_type": "code",
   "execution_count": 2490,
   "metadata": {},
   "outputs": [],
   "source": [
    "y_train= pd.read_csv(\"preprocess_data/prep_ytrain.csv\")\n",
    "y_test= pd.read_csv(\"preprocess_data/prep_ytest.csv\")"
   ]
  },
  {
   "cell_type": "code",
   "execution_count": 2491,
   "metadata": {},
   "outputs": [
    {
     "data": {
      "text/html": [
       "<div>\n",
       "<style scoped>\n",
       "    .dataframe tbody tr th:only-of-type {\n",
       "        vertical-align: middle;\n",
       "    }\n",
       "\n",
       "    .dataframe tbody tr th {\n",
       "        vertical-align: top;\n",
       "    }\n",
       "\n",
       "    .dataframe thead th {\n",
       "        text-align: right;\n",
       "    }\n",
       "</style>\n",
       "<table border=\"1\" class=\"dataframe\">\n",
       "  <thead>\n",
       "    <tr style=\"text-align: right;\">\n",
       "      <th></th>\n",
       "      <th>Sales per customer</th>\n",
       "    </tr>\n",
       "  </thead>\n",
       "  <tbody>\n",
       "    <tr>\n",
       "      <th>0</th>\n",
       "      <td>179.990005</td>\n",
       "    </tr>\n",
       "    <tr>\n",
       "      <th>1</th>\n",
       "      <td>63.700001</td>\n",
       "    </tr>\n",
       "    <tr>\n",
       "      <th>2</th>\n",
       "      <td>299.970001</td>\n",
       "    </tr>\n",
       "    <tr>\n",
       "      <th>3</th>\n",
       "      <td>94.989998</td>\n",
       "    </tr>\n",
       "    <tr>\n",
       "      <th>4</th>\n",
       "      <td>167.990005</td>\n",
       "    </tr>\n",
       "  </tbody>\n",
       "</table>\n",
       "</div>"
      ],
      "text/plain": [
       "   Sales per customer\n",
       "0          179.990005\n",
       "1           63.700001\n",
       "2          299.970001\n",
       "3           94.989998\n",
       "4          167.990005"
      ]
     },
     "execution_count": 2491,
     "metadata": {},
     "output_type": "execute_result"
    }
   ],
   "source": [
    "y_train.head()"
   ]
  },
  {
   "cell_type": "code",
   "execution_count": 2492,
   "metadata": {},
   "outputs": [
    {
     "name": "stderr",
     "output_type": "stream",
     "text": [
      "C:\\Users\\Kemik\\anaconda3\\lib\\site-packages\\sklearn\\linear_model\\_coordinate_descent.py:529: ConvergenceWarning: Objective did not converge. You might want to increase the number of iterations. Duality gap: 536167.2533808517, tolerance: 194343.24818074662\n",
      "  model = cd_fast.enet_coordinate_descent(\n"
     ]
    },
    {
     "data": {
      "text/plain": [
       "SelectFromModel(estimator=Lasso(alpha=0.001, random_state=0))"
      ]
     },
     "execution_count": 2492,
     "metadata": {},
     "output_type": "execute_result"
    }
   ],
   "source": [
    "from sklearn.linear_model import Lasso\n",
    "from sklearn.feature_selection import SelectFromModel\n",
    "\n",
    "#objeto selector de variables (PCA en lugar de Lasso para clasificación)\n",
    "sel_ = SelectFromModel(Lasso(alpha=0.001, random_state=0)) # Alpha para penalizar y eliminar variables\n",
    "sel_.fit(X_train, y_train)"
   ]
  },
  {
   "cell_type": "code",
   "execution_count": 2493,
   "metadata": {},
   "outputs": [
    {
     "name": "stdout",
     "output_type": "stream",
     "text": [
      "variables seleccionadas:  Index(['Order Item Product Price', 'Sales', 'Order Item Total',\n",
      "       'Product Price'],\n",
      "      dtype='object')\n"
     ]
    },
    {
     "data": {
      "text/plain": [
       "4"
      ]
     },
     "execution_count": 2493,
     "metadata": {},
     "output_type": "execute_result"
    }
   ],
   "source": [
    "selected_features = X_train.columns[(sel_.get_support())]\n",
    "print(\"variables seleccionadas: \", selected_features)\n",
    "sel_.get_support().sum()"
   ]
  },
  {
   "cell_type": "markdown",
   "metadata": {},
   "source": [
    "## 5. Entrenamiento del Modelo"
   ]
  },
  {
   "cell_type": "code",
   "execution_count": 2494,
   "metadata": {},
   "outputs": [],
   "source": [
    "X_train = X_train[selected_features]\n",
    "X_test = X_test[selected_features]"
   ]
  },
  {
   "cell_type": "markdown",
   "metadata": {},
   "source": [
    "### 5.1 Modelo"
   ]
  },
  {
   "cell_type": "code",
   "execution_count": 2495,
   "metadata": {},
   "outputs": [
    {
     "data": {
      "text/plain": [
       "array([0.99999797, 0.9999945 , 0.99999783, 0.99989266, 0.99999987,\n",
       "       0.99999253, 0.99999267, 0.99999746, 0.99999993, 0.99999499])"
      ]
     },
     "execution_count": 2495,
     "metadata": {},
     "output_type": "execute_result"
    }
   ],
   "source": [
    "from sklearn.tree import DecisionTreeRegressor\n",
    "from sklearn.model_selection import cross_val_score\n",
    "#X_train, y_train = load_diabetes(return_X_y=True)\n",
    "\n",
    "regressor = DecisionTreeRegressor(random_state=0)\n",
    "regressor.fit(X_train, y_train.values.ravel())\n",
    "cross_val_score(regressor, X_train, y_train, cv=10)\n",
    "\n",
    "#Se utiliza este modelo porque la variable a predecir \"Sales per customer\" es continua no categórica."
   ]
  },
  {
   "cell_type": "markdown",
   "metadata": {},
   "source": [
    "### **2.16 Predicciones**"
   ]
  },
  {
   "cell_type": "code",
   "execution_count": 2496,
   "metadata": {},
   "outputs": [],
   "source": [
    "from sklearn.metrics import mean_squared_error, r2_score"
   ]
  },
  {
   "cell_type": "code",
   "execution_count": 2498,
   "metadata": {},
   "outputs": [],
   "source": [
    "y_train = regressor.predict(X_train)\n",
    "y_pred = regressor.predict(X_test)"
   ]
  },
  {
   "cell_type": "markdown",
   "metadata": {},
   "source": [
    "### 2.17 Validacion de resultados con matriz de confusion"
   ]
  },
  {
   "cell_type": "code",
   "execution_count": 2499,
   "metadata": {},
   "outputs": [
    {
     "name": "stdout",
     "output_type": "stream",
     "text": [
      "Classification \t Train: 1.0\n",
      "Classification \t Test: 0.9999959662860297\n"
     ]
    },
    {
     "ename": "ValueError",
     "evalue": "continuous is not supported",
     "output_type": "error",
     "traceback": [
      "\u001b[1;31m---------------------------------------------------------------------------\u001b[0m",
      "\u001b[1;31mValueError\u001b[0m                                Traceback (most recent call last)",
      "\u001b[1;32m<ipython-input-2499-2fb9907f27da>\u001b[0m in \u001b[0;36m<module>\u001b[1;34m\u001b[0m\n\u001b[0;32m      9\u001b[0m \u001b[1;33m\u001b[0m\u001b[0m\n\u001b[0;32m     10\u001b[0m \u001b[0mf\u001b[0m\u001b[1;33m,\u001b[0m \u001b[0maxes\u001b[0m \u001b[1;33m=\u001b[0m \u001b[0mplt\u001b[0m\u001b[1;33m.\u001b[0m\u001b[0msubplots\u001b[0m\u001b[1;33m(\u001b[0m\u001b[1;36m1\u001b[0m\u001b[1;33m,\u001b[0m\u001b[1;36m2\u001b[0m\u001b[1;33m,\u001b[0m\u001b[0mfigsize\u001b[0m\u001b[1;33m=\u001b[0m\u001b[1;33m(\u001b[0m\u001b[1;36m12\u001b[0m\u001b[1;33m,\u001b[0m\u001b[1;36m4\u001b[0m\u001b[1;33m)\u001b[0m\u001b[1;33m)\u001b[0m\u001b[1;33m\u001b[0m\u001b[1;33m\u001b[0m\u001b[0m\n\u001b[1;32m---> 11\u001b[1;33m sb.heatmap(confusion_matrix(y_test, y_pred),\n\u001b[0m\u001b[0;32m     12\u001b[0m           annot = True, fmt=\".0f\", annot_kws={\"size\":18}, ax=axes[1])\n",
      "\u001b[1;32m~\\anaconda3\\lib\\site-packages\\sklearn\\utils\\validation.py\u001b[0m in \u001b[0;36minner_f\u001b[1;34m(*args, **kwargs)\u001b[0m\n\u001b[0;32m     70\u001b[0m                           FutureWarning)\n\u001b[0;32m     71\u001b[0m         \u001b[0mkwargs\u001b[0m\u001b[1;33m.\u001b[0m\u001b[0mupdate\u001b[0m\u001b[1;33m(\u001b[0m\u001b[1;33m{\u001b[0m\u001b[0mk\u001b[0m\u001b[1;33m:\u001b[0m \u001b[0marg\u001b[0m \u001b[1;32mfor\u001b[0m \u001b[0mk\u001b[0m\u001b[1;33m,\u001b[0m \u001b[0marg\u001b[0m \u001b[1;32min\u001b[0m \u001b[0mzip\u001b[0m\u001b[1;33m(\u001b[0m\u001b[0msig\u001b[0m\u001b[1;33m.\u001b[0m\u001b[0mparameters\u001b[0m\u001b[1;33m,\u001b[0m \u001b[0margs\u001b[0m\u001b[1;33m)\u001b[0m\u001b[1;33m}\u001b[0m\u001b[1;33m)\u001b[0m\u001b[1;33m\u001b[0m\u001b[1;33m\u001b[0m\u001b[0m\n\u001b[1;32m---> 72\u001b[1;33m         \u001b[1;32mreturn\u001b[0m \u001b[0mf\u001b[0m\u001b[1;33m(\u001b[0m\u001b[1;33m**\u001b[0m\u001b[0mkwargs\u001b[0m\u001b[1;33m)\u001b[0m\u001b[1;33m\u001b[0m\u001b[1;33m\u001b[0m\u001b[0m\n\u001b[0m\u001b[0;32m     73\u001b[0m     \u001b[1;32mreturn\u001b[0m \u001b[0minner_f\u001b[0m\u001b[1;33m\u001b[0m\u001b[1;33m\u001b[0m\u001b[0m\n\u001b[0;32m     74\u001b[0m \u001b[1;33m\u001b[0m\u001b[0m\n",
      "\u001b[1;32m~\\anaconda3\\lib\\site-packages\\sklearn\\metrics\\_classification.py\u001b[0m in \u001b[0;36mconfusion_matrix\u001b[1;34m(y_true, y_pred, labels, sample_weight, normalize)\u001b[0m\n\u001b[0;32m    274\u001b[0m \u001b[1;33m\u001b[0m\u001b[0m\n\u001b[0;32m    275\u001b[0m     \"\"\"\n\u001b[1;32m--> 276\u001b[1;33m     \u001b[0my_type\u001b[0m\u001b[1;33m,\u001b[0m \u001b[0my_true\u001b[0m\u001b[1;33m,\u001b[0m \u001b[0my_pred\u001b[0m \u001b[1;33m=\u001b[0m \u001b[0m_check_targets\u001b[0m\u001b[1;33m(\u001b[0m\u001b[0my_true\u001b[0m\u001b[1;33m,\u001b[0m \u001b[0my_pred\u001b[0m\u001b[1;33m)\u001b[0m\u001b[1;33m\u001b[0m\u001b[1;33m\u001b[0m\u001b[0m\n\u001b[0m\u001b[0;32m    277\u001b[0m     \u001b[1;32mif\u001b[0m \u001b[0my_type\u001b[0m \u001b[1;32mnot\u001b[0m \u001b[1;32min\u001b[0m \u001b[1;33m(\u001b[0m\u001b[1;34m\"binary\"\u001b[0m\u001b[1;33m,\u001b[0m \u001b[1;34m\"multiclass\"\u001b[0m\u001b[1;33m)\u001b[0m\u001b[1;33m:\u001b[0m\u001b[1;33m\u001b[0m\u001b[1;33m\u001b[0m\u001b[0m\n\u001b[0;32m    278\u001b[0m         \u001b[1;32mraise\u001b[0m \u001b[0mValueError\u001b[0m\u001b[1;33m(\u001b[0m\u001b[1;34m\"%s is not supported\"\u001b[0m \u001b[1;33m%\u001b[0m \u001b[0my_type\u001b[0m\u001b[1;33m)\u001b[0m\u001b[1;33m\u001b[0m\u001b[1;33m\u001b[0m\u001b[0m\n",
      "\u001b[1;32m~\\anaconda3\\lib\\site-packages\\sklearn\\metrics\\_classification.py\u001b[0m in \u001b[0;36m_check_targets\u001b[1;34m(y_true, y_pred)\u001b[0m\n\u001b[0;32m     96\u001b[0m     \u001b[1;31m# No metrics support \"multiclass-multioutput\" format\u001b[0m\u001b[1;33m\u001b[0m\u001b[1;33m\u001b[0m\u001b[1;33m\u001b[0m\u001b[0m\n\u001b[0;32m     97\u001b[0m     \u001b[1;32mif\u001b[0m \u001b[1;33m(\u001b[0m\u001b[0my_type\u001b[0m \u001b[1;32mnot\u001b[0m \u001b[1;32min\u001b[0m \u001b[1;33m[\u001b[0m\u001b[1;34m\"binary\"\u001b[0m\u001b[1;33m,\u001b[0m \u001b[1;34m\"multiclass\"\u001b[0m\u001b[1;33m,\u001b[0m \u001b[1;34m\"multilabel-indicator\"\u001b[0m\u001b[1;33m]\u001b[0m\u001b[1;33m)\u001b[0m\u001b[1;33m:\u001b[0m\u001b[1;33m\u001b[0m\u001b[1;33m\u001b[0m\u001b[0m\n\u001b[1;32m---> 98\u001b[1;33m         \u001b[1;32mraise\u001b[0m \u001b[0mValueError\u001b[0m\u001b[1;33m(\u001b[0m\u001b[1;34m\"{0} is not supported\"\u001b[0m\u001b[1;33m.\u001b[0m\u001b[0mformat\u001b[0m\u001b[1;33m(\u001b[0m\u001b[0my_type\u001b[0m\u001b[1;33m)\u001b[0m\u001b[1;33m)\u001b[0m\u001b[1;33m\u001b[0m\u001b[1;33m\u001b[0m\u001b[0m\n\u001b[0m\u001b[0;32m     99\u001b[0m \u001b[1;33m\u001b[0m\u001b[0m\n\u001b[0;32m    100\u001b[0m     \u001b[1;32mif\u001b[0m \u001b[0my_type\u001b[0m \u001b[1;32min\u001b[0m \u001b[1;33m[\u001b[0m\u001b[1;34m\"binary\"\u001b[0m\u001b[1;33m,\u001b[0m \u001b[1;34m\"multiclass\"\u001b[0m\u001b[1;33m]\u001b[0m\u001b[1;33m:\u001b[0m\u001b[1;33m\u001b[0m\u001b[1;33m\u001b[0m\u001b[0m\n",
      "\u001b[1;31mValueError\u001b[0m: continuous is not supported"
     ]
    },
    {
     "data": {
      "image/png": "[encoded data removed]",
      "text/plain": [
       "<Figure size 864x288 with 2 Axes>"
      ]
     },
     "metadata": {},
     "output_type": "display_data"
    }
   ],
   "source": [
    "import seaborn as sb\n",
    "import matplotlib.pyplot as plt\n",
    "sb.set()\n",
    "\n",
    "from sklearn.metrics import confusion_matrix\n",
    "\n",
    "print(\"Classification \\t Train:\", regressor.score(X_train, y_train))\n",
    "print(\"Classification \\t Test:\", regressor.score(X_test, y_test))\n",
    "\n",
    "f, axes = plt.subplots(1,2,figsize=(12,4))\n",
    "sb.heatmap(confusion_matrix(y_test, y_pred),\n",
    "          annot = True, fmt=\".0f\", annot_kws={\"size\":18}, ax=axes[1])"
   ]
  },
  {
   "cell_type": "markdown",
   "metadata": {},
   "source": [
    "### *Accuracy*"
   ]
  },
  {
   "cell_type": "code",
   "execution_count": null,
   "metadata": {},
   "outputs": [],
   "source": [
    "from sklearn.metrics import accuracy_score\n",
    "#print('El accuracy obtenido del modelo es: ',accuracy_score(y_test, y_pred))\n",
    "\n",
    "from sklearn import metrics\n",
    "\n",
    "print('El accuracy obtenido del modelo es:', metrics.accuracy_score(y_test, y_pred))"
   ]
  },
  {
   "cell_type": "markdown",
   "metadata": {},
   "source": [
    "#### **El accuracy obtenido es de 78%**"
   ]
  },
  {
   "cell_type": "markdown",
   "metadata": {},
   "source": [
    "### *2.18 Configuracion de Pipeline*"
   ]
  },
  {
   "cell_type": "code",
   "execution_count": null,
   "metadata": {},
   "outputs": [],
   "source": [
    "import pandas as pd\n",
    "import numpy as np\n",
    "import matplotlib.pyplot as plt\n",
    "from sklearn.ensemble import RandomForestClassifier\n",
    "\n",
    "from sklearn.linear_model import Lasso\n",
    "from sklearn.feature_selection import SelectFromModel\n",
    "from sklearn.metrics import mean_squared_error, r2_score\n",
    "from sklearn.model_selection import train_test_split\n",
    "from sklearn.preprocessing import MinMaxScaler, Binarizer\n",
    "from sklearn.pipeline import Pipeline\n",
    "\n",
    "from feature_engine.imputation import(\n",
    "    AddMissingIndicator,\n",
    "    MeanMedianImputer,\n",
    "    CategoricalImputer)\n",
    "\n",
    "from feature_engine.encoding import (\n",
    "    RareLabelEncoder,\n",
    "    OrdinalEncoder)\n",
    "\n",
    "from feature_engine.transformation import LogTransformer\n",
    "from feature_engine.selection import DropFeatures\n",
    "from feature_engine.wrappers import SklearnTransformerWrapper\n",
    "import joblib"
   ]
  },
  {
   "cell_type": "code",
   "execution_count": null,
   "metadata": {},
   "outputs": [],
   "source": [
    "# Libreria con formato\"py\"\n",
    "import my_preprocessors as mypp"
   ]
  },
  {
   "cell_type": "code",
   "execution_count": null,
   "metadata": {},
   "outputs": [],
   "source": [
    "data = pd.read_csv('SupplyChain.csv', index_col=0, encoding='latin-1', delimiter= ';')\n",
    "\n",
    "print(str(data.shape) + '\\n')\n",
    "\n",
    "data.head()"
   ]
  },
  {
   "cell_type": "code",
   "execution_count": null,
   "metadata": {},
   "outputs": [],
   "source": [
    "X_train, X_test, y_train, y_test = train_test_split(\n",
    "        data.drop(['Sales per customer', 'Category Id', 'Customer Id', 'Product Category Id', 'Order Customer Id'\n",
    "                  , 'Department Id', 'Order Id', 'Order Item Id'], axis=1),\n",
    "        data['Sales per customer'],\n",
    "        test_size=0.1,\n",
    "        random_state=2022)\n",
    "\n",
    "X_train.shape, X_test.shape"
   ]
  },
  {
   "cell_type": "markdown",
   "metadata": {},
   "source": [
    "### *2.18.1 Feature Selection*"
   ]
  },
  {
   "cell_type": "code",
   "execution_count": null,
   "metadata": {},
   "outputs": [],
   "source": [
    "#Variables categoricas con NA\n",
    "CATEGORICAL_VARS_WITH_NA = []\n",
    "\n",
    "CATEGORICAL_VARS_WITH_NA_FREQ = ['Customer Lname']\n",
    "\n",
    "#Variables numéricas con NA\n",
    "NUMERICAL_VARS_WITH_NA = []\n",
    "\n",
    "#Variables para hacer mapeo categorico \n",
    "DELIVERY_VARS =  ['Delivery Status']\n",
    "SEGMENT_VARS = ['Customer Segment']\n",
    "COUNTRY_VARS = ['Customer Country']\n",
    "SHIPPING_VARS = ['Shipping Mode']\n",
    "MARKET_VARS = ['Market']\n",
    "\n",
    "#Mapeos de variables categoricas\n",
    "DELIVERY_MAP = {'Advance shipping':1, 'Late delivery':2, 'Shipping canceled':3, 'Shipping on time':4, \n",
    "                    'Missing':0, 'NA':0, 'NaN':0}\n",
    "SEGMENT_MAP = {'Consumer':1, 'Corporate':2, 'Home Office':3, 'Missing':0, 'NA':0, 'NaN':0}\n",
    "COUNTRY_MAP = {'EE. UU.':1, 'Puerto Rico':2, 'Missing':0, 'NA':0, 'NaN':0}\n",
    "SHIPPING_MAP = {'First Class':1, 'Same Day':2, 'Second Class':3, 'Standard Class':4, 'Missing':0, 'NA':0, 'NaN':0}\n",
    "MARKET_MAP = {'Africa':1, 'Europe':2, 'LATAM':3, 'Pacific Asia':4, 'USCA':5, 'Missing':0, 'NA':0, 'NaN':0}\n",
    "\n",
    "#Variables seleccionadas según análisis de Lasso\n",
    "FEATURES = ['Order Item Product Price', 'Sales', 'Order Item Total','Product Price']\n",
    "\n",
    "#Variables a eliminar\n",
    "DROP_VAR=  ['Customer Lname', 'Customer City', 'Customer State', 'Order City', 'Order Country', 'Order State',\n",
    "           'Product Name', 'Order Status']"
   ]
  },
  {
   "cell_type": "markdown",
   "metadata": {},
   "source": [
    "### *2.19 Machine Learning Pipeline*"
   ]
  },
  {
   "cell_type": "code",
   "execution_count": null,
   "metadata": {},
   "outputs": [],
   "source": [
    "salescustomer_pipeline = Pipeline([\n",
    "    \n",
    "    #============= IMPUTACIONES ===================#\n",
    "    \n",
    "      \n",
    "    #1. Imputación de variables categoricas con NA basado en frequiencia.\n",
    "    ('frequent_imputation', \n",
    "         CategoricalImputer(imputation_method='frequent', variables=CATEGORICAL_VARS_WITH_NA_FREQ)\n",
    "    ),\n",
    "    \n",
    "    #2. Faltante en variables numéricas\n",
    "    ('missing_indicator', AddMissingIndicator(variables=NUMERICAL_VARS_WITH_NA)),\n",
    "    \n",
    "    #3. Imputación de mediana para variables categoricas\n",
    "    ('mean_imputation', MeanMedianImputer(\n",
    "        imputation_method='mean', variables=NUMERICAL_VARS_WITH_NA)\n",
    "    ),\n",
    "    \n",
    "    #============= TRANSFORMACIÓN DE VARIABLES NUMÉRICAS =============\n",
    "    \n",
    "    #4. Transformación logaritmica\n",
    "    #('log', LogTransformer(variables=NUMERICALS_LOG_VARS)),\n",
    "    \n",
    "    #=============== CODIFICACION DE VARIABLES CATEGORICAS ORDINALES ==============\n",
    "\n",
    "    ('mapper_quality', mypp.Mapper(\n",
    "        variables=DELIVERY_VARS, mappings=DELIVERY_MAP)),\n",
    "    \n",
    "    ('mapper_quality', mypp.Mapper(\n",
    "        variables=SEGMENT_VARS, mappings=SEGMENT_MAP)),\n",
    "    \n",
    "     ('mapper_quality', mypp.Mapper(\n",
    "        variables=SHIPPING_VARS, mappings=SHIPPING_MAP)),\n",
    "    \n",
    "    ('mapper_exposure', mypp.Mapper(\n",
    "        variables=COUNTRY_VARS, mappings=COUNTRY_MAP)),\n",
    "    \n",
    "    ('mapper_exposure', mypp.Mapper(\n",
    "        variables=MARKET_VARS, mappings=MARKET_MAP)),\n",
    "    \n",
    "    #=========== SCALER ==============\n",
    "    ('scaler', MinMaxScaler()),\n",
    "    \n",
    "    #=========== ENTRENAMIENTO DEL MODELO ============\n",
    "    ('Lasso', Lasso(alpha=0.01, random_state=2022)),\n",
    "]) "
   ]
  },
  {
   "cell_type": "markdown",
   "metadata": {},
   "source": [
    "### *2.19.1 Seleccion de variables para predecir*"
   ]
  },
  {
   "cell_type": "code",
   "execution_count": null,
   "metadata": {},
   "outputs": [],
   "source": [
    "X_train = X_train[FEATURES]"
   ]
  },
  {
   "cell_type": "code",
   "execution_count": null,
   "metadata": {},
   "outputs": [],
   "source": [
    "salescustomer_pipeline.fit(X_train, y_train)"
   ]
  },
  {
   "cell_type": "code",
   "execution_count": null,
   "metadata": {},
   "outputs": [],
   "source": [
    "#Seleccion de variables para predicción\n",
    "X_test = X_test[FEATURES]"
   ]
  },
  {
   "cell_type": "code",
   "execution_count": null,
   "metadata": {},
   "outputs": [],
   "source": [
    "preds = salescustomer_pipeline.predict(X_test)"
   ]
  },
  {
   "cell_type": "code",
   "execution_count": null,
   "metadata": {},
   "outputs": [],
   "source": [
    "from sklearn.metrics import mean_squared_error "
   ]
  },
  {
   "cell_type": "code",
   "execution_count": null,
   "metadata": {},
   "outputs": [],
   "source": [
    "mean_squared_error(np.exp(y_test), np.exp(preds), squared=False)"
   ]
  },
  {
   "cell_type": "code",
   "execution_count": null,
   "metadata": {},
   "outputs": [],
   "source": [
    "X_test.head(3)"
   ]
  },
  {
   "cell_type": "code",
   "execution_count": null,
   "metadata": {},
   "outputs": [],
   "source": [
    "import joblib"
   ]
  },
  {
   "cell_type": "markdown",
   "metadata": {},
   "source": [
    "### *2.19.2 Exportacion de modelo*"
   ]
  },
  {
   "cell_type": "code",
   "execution_count": null,
   "metadata": {},
   "outputs": [],
   "source": [
    "#Procedemos a guardar el pipeline\n",
    "joblib.dump(salescustomer_pipeline, 'salescustomer_pipeline.pkl')"
   ]
  },
  {
   "cell_type": "code",
   "execution_count": null,
   "metadata": {},
   "outputs": [],
   "source": [
    "X_train.head(3)"
   ]
  },
  {
   "cell_type": "code",
   "execution_count": null,
   "metadata": {},
   "outputs": [],
   "source": [
    "type(salescustomer_pipeline)"
   ]
  },
  {
   "cell_type": "code",
   "execution_count": null,
   "metadata": {},
   "outputs": [],
   "source": [
    "data = pd.read_csv('SupplyChain.csv')\n",
    "data.to_json('Proyecto.json', orient='records')"
   ]
  },
  {
   "cell_type": "markdown",
   "metadata": {},
   "source": [
    "**-CONCLUSION DE PIPELINE-**"
   ]
  }
 ],
 "metadata": {
  "kernelspec": {
   "display_name": "Python 3",
   "language": "python",
   "name": "python3"
  },
  "language_info": {
   "codemirror_mode": {
    "name": "ipython",
    "version": 3
   },
   "file_extension": ".py",
   "mimetype": "text/x-python",
   "name": "python",
   "nbconvert_exporter": "python",
   "pygments_lexer": "ipython3",
   "version": "3.8.5"
  }
 },
 "nbformat": 4,
 "nbformat_minor": 4
}
